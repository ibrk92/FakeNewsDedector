{
 "cells": [
  {
   "cell_type": "code",
   "execution_count": 1,
   "id": "3f68a425-e001-4fff-b70e-ec408e0bc21c",
   "metadata": {
    "tags": []
   },
   "outputs": [],
   "source": [
    "import pandas as pd"
   ]
  },
  {
   "cell_type": "code",
   "execution_count": 2,
   "id": "420dab7d-776d-4655-9316-c256f79cd6a5",
   "metadata": {
    "tags": []
   },
   "outputs": [],
   "source": [
    "df = pd.read_csv('news.csv', sep = ',')"
   ]
  },
  {
   "cell_type": "code",
   "execution_count": 3,
   "id": "8778c4f1-e819-401a-aff7-8c45dd73e9a5",
   "metadata": {
    "tags": []
   },
   "outputs": [
    {
     "data": {
      "text/html": [
       "<div>\n",
       "<style scoped>\n",
       "    .dataframe tbody tr th:only-of-type {\n",
       "        vertical-align: middle;\n",
       "    }\n",
       "\n",
       "    .dataframe tbody tr th {\n",
       "        vertical-align: top;\n",
       "    }\n",
       "\n",
       "    .dataframe thead th {\n",
       "        text-align: right;\n",
       "    }\n",
       "</style>\n",
       "<table border=\"1\" class=\"dataframe\">\n",
       "  <thead>\n",
       "    <tr style=\"text-align: right;\">\n",
       "      <th></th>\n",
       "      <th>Unnamed: 0</th>\n",
       "      <th>title</th>\n",
       "      <th>text</th>\n",
       "      <th>label</th>\n",
       "    </tr>\n",
       "  </thead>\n",
       "  <tbody>\n",
       "    <tr>\n",
       "      <th>0</th>\n",
       "      <td>8476</td>\n",
       "      <td>You Can Smell Hillary’s Fear</td>\n",
       "      <td>Daniel Greenfield, a Shillman Journalism Fello...</td>\n",
       "      <td>FAKE</td>\n",
       "    </tr>\n",
       "    <tr>\n",
       "      <th>1</th>\n",
       "      <td>10294</td>\n",
       "      <td>Watch The Exact Moment Paul Ryan Committed Pol...</td>\n",
       "      <td>Google Pinterest Digg Linkedin Reddit Stumbleu...</td>\n",
       "      <td>FAKE</td>\n",
       "    </tr>\n",
       "    <tr>\n",
       "      <th>2</th>\n",
       "      <td>3608</td>\n",
       "      <td>Kerry to go to Paris in gesture of sympathy</td>\n",
       "      <td>U.S. Secretary of State John F. Kerry said Mon...</td>\n",
       "      <td>REAL</td>\n",
       "    </tr>\n",
       "    <tr>\n",
       "      <th>3</th>\n",
       "      <td>10142</td>\n",
       "      <td>Bernie supporters on Twitter erupt in anger ag...</td>\n",
       "      <td>— Kaydee King (@KaydeeKing) November 9, 2016 T...</td>\n",
       "      <td>FAKE</td>\n",
       "    </tr>\n",
       "    <tr>\n",
       "      <th>4</th>\n",
       "      <td>875</td>\n",
       "      <td>The Battle of New York: Why This Primary Matters</td>\n",
       "      <td>It's primary day in New York and front-runners...</td>\n",
       "      <td>REAL</td>\n",
       "    </tr>\n",
       "  </tbody>\n",
       "</table>\n",
       "</div>"
      ],
      "text/plain": [
       "   Unnamed: 0                                              title  \\\n",
       "0        8476                       You Can Smell Hillary’s Fear   \n",
       "1       10294  Watch The Exact Moment Paul Ryan Committed Pol...   \n",
       "2        3608        Kerry to go to Paris in gesture of sympathy   \n",
       "3       10142  Bernie supporters on Twitter erupt in anger ag...   \n",
       "4         875   The Battle of New York: Why This Primary Matters   \n",
       "\n",
       "                                                text label  \n",
       "0  Daniel Greenfield, a Shillman Journalism Fello...  FAKE  \n",
       "1  Google Pinterest Digg Linkedin Reddit Stumbleu...  FAKE  \n",
       "2  U.S. Secretary of State John F. Kerry said Mon...  REAL  \n",
       "3  — Kaydee King (@KaydeeKing) November 9, 2016 T...  FAKE  \n",
       "4  It's primary day in New York and front-runners...  REAL  "
      ]
     },
     "execution_count": 3,
     "metadata": {},
     "output_type": "execute_result"
    }
   ],
   "source": [
    "df.head()"
   ]
  },
  {
   "cell_type": "code",
   "execution_count": 4,
   "id": "b355cad2-ccb0-4b17-8f3b-f367f305adad",
   "metadata": {
    "tags": []
   },
   "outputs": [
    {
     "name": "stdout",
     "output_type": "stream",
     "text": [
      "<class 'pandas.core.frame.DataFrame'>\n",
      "RangeIndex: 6335 entries, 0 to 6334\n",
      "Data columns (total 4 columns):\n",
      " #   Column      Non-Null Count  Dtype \n",
      "---  ------      --------------  ----- \n",
      " 0   Unnamed: 0  6335 non-null   int64 \n",
      " 1   title       6335 non-null   object\n",
      " 2   text        6335 non-null   object\n",
      " 3   label       6335 non-null   object\n",
      "dtypes: int64(1), object(3)\n",
      "memory usage: 198.1+ KB\n"
     ]
    }
   ],
   "source": [
    "df.info()"
   ]
  },
  {
   "cell_type": "code",
   "execution_count": 5,
   "id": "8ca255aa-06e3-4b1d-a143-a49837d11205",
   "metadata": {
    "tags": []
   },
   "outputs": [],
   "source": [
    "df2 = pd.read_csv('WELFake_Dataset.csv', sep = ',')"
   ]
  },
  {
   "cell_type": "code",
   "execution_count": 6,
   "id": "5a52542e-64ea-4f43-8e37-18919571c0e4",
   "metadata": {
    "tags": []
   },
   "outputs": [],
   "source": [
    "sample_0 = df2[df2['label'] == 0 ][['title','text','label']].sample(n = 30000, random_state=42)\n",
    "sample_1 = df2[df2['label'] == 1 ][['title','text','label']].sample(n = 30000, random_state=42)\n",
    "sample_0['label'] = 'FAKE'\n",
    "sample_1['label'] = 'REAL'\n",
    "balanced_sample = pd.concat([sample_0,sample_1])\n",
    "df = pd.concat([df[['title','text','label']], balanced_sample], ignore_index=True)"
   ]
  },
  {
   "cell_type": "code",
   "execution_count": 7,
   "id": "4824c9e3-39db-4937-b0e8-c6bc5d8351a0",
   "metadata": {
    "tags": []
   },
   "outputs": [],
   "source": [
    "# balanced_sample.head()"
   ]
  },
  {
   "cell_type": "code",
   "execution_count": 8,
   "id": "0bce7e31-338d-4c63-85a5-342f494292bd",
   "metadata": {
    "tags": []
   },
   "outputs": [],
   "source": [
    "df_news = df.copy()"
   ]
  },
  {
   "cell_type": "code",
   "execution_count": 9,
   "id": "e8b0e3cc-1257-4d0b-8f5c-560925e1f981",
   "metadata": {},
   "outputs": [
    {
     "data": {
      "text/html": [
       "<div>\n",
       "<style scoped>\n",
       "    .dataframe tbody tr th:only-of-type {\n",
       "        vertical-align: middle;\n",
       "    }\n",
       "\n",
       "    .dataframe tbody tr th {\n",
       "        vertical-align: top;\n",
       "    }\n",
       "\n",
       "    .dataframe thead th {\n",
       "        text-align: right;\n",
       "    }\n",
       "</style>\n",
       "<table border=\"1\" class=\"dataframe\">\n",
       "  <thead>\n",
       "    <tr style=\"text-align: right;\">\n",
       "      <th></th>\n",
       "      <th>title</th>\n",
       "      <th>text</th>\n",
       "      <th>label</th>\n",
       "    </tr>\n",
       "  </thead>\n",
       "  <tbody>\n",
       "    <tr>\n",
       "      <th>0</th>\n",
       "      <td>You Can Smell Hillary’s Fear</td>\n",
       "      <td>Daniel Greenfield, a Shillman Journalism Fello...</td>\n",
       "      <td>FAKE</td>\n",
       "    </tr>\n",
       "    <tr>\n",
       "      <th>1</th>\n",
       "      <td>Watch The Exact Moment Paul Ryan Committed Pol...</td>\n",
       "      <td>Google Pinterest Digg Linkedin Reddit Stumbleu...</td>\n",
       "      <td>FAKE</td>\n",
       "    </tr>\n",
       "    <tr>\n",
       "      <th>2</th>\n",
       "      <td>Kerry to go to Paris in gesture of sympathy</td>\n",
       "      <td>U.S. Secretary of State John F. Kerry said Mon...</td>\n",
       "      <td>REAL</td>\n",
       "    </tr>\n",
       "    <tr>\n",
       "      <th>3</th>\n",
       "      <td>Bernie supporters on Twitter erupt in anger ag...</td>\n",
       "      <td>— Kaydee King (@KaydeeKing) November 9, 2016 T...</td>\n",
       "      <td>FAKE</td>\n",
       "    </tr>\n",
       "    <tr>\n",
       "      <th>4</th>\n",
       "      <td>The Battle of New York: Why This Primary Matters</td>\n",
       "      <td>It's primary day in New York and front-runners...</td>\n",
       "      <td>REAL</td>\n",
       "    </tr>\n",
       "  </tbody>\n",
       "</table>\n",
       "</div>"
      ],
      "text/plain": [
       "                                               title  \\\n",
       "0                       You Can Smell Hillary’s Fear   \n",
       "1  Watch The Exact Moment Paul Ryan Committed Pol...   \n",
       "2        Kerry to go to Paris in gesture of sympathy   \n",
       "3  Bernie supporters on Twitter erupt in anger ag...   \n",
       "4   The Battle of New York: Why This Primary Matters   \n",
       "\n",
       "                                                text label  \n",
       "0  Daniel Greenfield, a Shillman Journalism Fello...  FAKE  \n",
       "1  Google Pinterest Digg Linkedin Reddit Stumbleu...  FAKE  \n",
       "2  U.S. Secretary of State John F. Kerry said Mon...  REAL  \n",
       "3  — Kaydee King (@KaydeeKing) November 9, 2016 T...  FAKE  \n",
       "4  It's primary day in New York and front-runners...  REAL  "
      ]
     },
     "execution_count": 9,
     "metadata": {},
     "output_type": "execute_result"
    }
   ],
   "source": [
    "df_news.head()"
   ]
  },
  {
   "cell_type": "code",
   "execution_count": 10,
   "id": "06343e67-258b-425c-8744-c5cda2b0257b",
   "metadata": {
    "tags": []
   },
   "outputs": [],
   "source": [
    "df_news.drop(columns=['title'], inplace=True)"
   ]
  },
  {
   "cell_type": "code",
   "execution_count": 11,
   "id": "f9f8ea28-3d8b-477d-bcab-d2fd84a43440",
   "metadata": {
    "tags": []
   },
   "outputs": [
    {
     "data": {
      "text/html": [
       "<div>\n",
       "<style scoped>\n",
       "    .dataframe tbody tr th:only-of-type {\n",
       "        vertical-align: middle;\n",
       "    }\n",
       "\n",
       "    .dataframe tbody tr th {\n",
       "        vertical-align: top;\n",
       "    }\n",
       "\n",
       "    .dataframe thead th {\n",
       "        text-align: right;\n",
       "    }\n",
       "</style>\n",
       "<table border=\"1\" class=\"dataframe\">\n",
       "  <thead>\n",
       "    <tr style=\"text-align: right;\">\n",
       "      <th></th>\n",
       "      <th>text</th>\n",
       "      <th>label</th>\n",
       "    </tr>\n",
       "  </thead>\n",
       "  <tbody>\n",
       "    <tr>\n",
       "      <th>0</th>\n",
       "      <td>Daniel Greenfield, a Shillman Journalism Fello...</td>\n",
       "      <td>FAKE</td>\n",
       "    </tr>\n",
       "    <tr>\n",
       "      <th>1</th>\n",
       "      <td>Google Pinterest Digg Linkedin Reddit Stumbleu...</td>\n",
       "      <td>FAKE</td>\n",
       "    </tr>\n",
       "    <tr>\n",
       "      <th>2</th>\n",
       "      <td>U.S. Secretary of State John F. Kerry said Mon...</td>\n",
       "      <td>REAL</td>\n",
       "    </tr>\n",
       "    <tr>\n",
       "      <th>3</th>\n",
       "      <td>— Kaydee King (@KaydeeKing) November 9, 2016 T...</td>\n",
       "      <td>FAKE</td>\n",
       "    </tr>\n",
       "    <tr>\n",
       "      <th>4</th>\n",
       "      <td>It's primary day in New York and front-runners...</td>\n",
       "      <td>REAL</td>\n",
       "    </tr>\n",
       "  </tbody>\n",
       "</table>\n",
       "</div>"
      ],
      "text/plain": [
       "                                                text label\n",
       "0  Daniel Greenfield, a Shillman Journalism Fello...  FAKE\n",
       "1  Google Pinterest Digg Linkedin Reddit Stumbleu...  FAKE\n",
       "2  U.S. Secretary of State John F. Kerry said Mon...  REAL\n",
       "3  — Kaydee King (@KaydeeKing) November 9, 2016 T...  FAKE\n",
       "4  It's primary day in New York and front-runners...  REAL"
      ]
     },
     "execution_count": 11,
     "metadata": {},
     "output_type": "execute_result"
    }
   ],
   "source": [
    "df_news.head()"
   ]
  },
  {
   "cell_type": "code",
   "execution_count": 12,
   "id": "643ca916-aca1-4f2a-b517-d38fba041594",
   "metadata": {
    "tags": []
   },
   "outputs": [
    {
     "data": {
      "text/plain": [
       "text     34\n",
       "label     0\n",
       "dtype: int64"
      ]
     },
     "execution_count": 12,
     "metadata": {},
     "output_type": "execute_result"
    }
   ],
   "source": [
    "df_news.isnull().sum()"
   ]
  },
  {
   "cell_type": "code",
   "execution_count": 13,
   "id": "07c4d7e0-c7a2-4586-8140-fed4b49f8bea",
   "metadata": {
    "tags": []
   },
   "outputs": [],
   "source": [
    "df_news = df_news.dropna()"
   ]
  },
  {
   "cell_type": "code",
   "execution_count": 14,
   "id": "2e536b53-08f2-4f04-9d54-dcc8189f3bd5",
   "metadata": {
    "tags": []
   },
   "outputs": [
    {
     "data": {
      "text/plain": [
       "text     0\n",
       "label    0\n",
       "dtype: int64"
      ]
     },
     "execution_count": 14,
     "metadata": {},
     "output_type": "execute_result"
    }
   ],
   "source": [
    "df_news.isnull().sum()"
   ]
  },
  {
   "cell_type": "code",
   "execution_count": 15,
   "id": "eacc67e9-a06f-4501-8675-9617331166f1",
   "metadata": {
    "tags": []
   },
   "outputs": [
    {
     "name": "stdout",
     "output_type": "stream",
     "text": [
      "<class 'pandas.core.frame.DataFrame'>\n",
      "Int64Index: 66301 entries, 0 to 66334\n",
      "Data columns (total 2 columns):\n",
      " #   Column  Non-Null Count  Dtype \n",
      "---  ------  --------------  ----- \n",
      " 0   text    66301 non-null  object\n",
      " 1   label   66301 non-null  object\n",
      "dtypes: object(2)\n",
      "memory usage: 1.5+ MB\n"
     ]
    }
   ],
   "source": [
    "df_news.info()"
   ]
  },
  {
   "cell_type": "markdown",
   "id": "7e3094c5-6640-4297-bcb3-e39d2cec41ff",
   "metadata": {
    "tags": []
   },
   "source": [
    "# Cleaning Data Set"
   ]
  },
  {
   "cell_type": "markdown",
   "id": "5e1cf262-2afd-4540-90c5-348ae35dff54",
   "metadata": {
    "tags": []
   },
   "source": [
    "### Making All Words to Lower Case"
   ]
  },
  {
   "cell_type": "code",
   "execution_count": 16,
   "id": "dc4c8550-4af5-427b-bca0-65c564652f89",
   "metadata": {
    "tags": []
   },
   "outputs": [],
   "source": [
    "df_news['text'] = df_news['text'].apply(lambda x: \" \".join(x.lower() for x in x.split()))\n",
    "##df_news['title'] = df_news['title'].apply(lambda x: \" \".join(x.lower() for x in x.split()))"
   ]
  },
  {
   "cell_type": "markdown",
   "id": "94dd8ef8-4eb6-42ce-9317-1f90c22f4df4",
   "metadata": {
    "jp-MarkdownHeadingCollapsed": true,
    "tags": []
   },
   "source": [
    "### Removing Punctuations"
   ]
  },
  {
   "cell_type": "code",
   "execution_count": 17,
   "id": "6f8f1778-365b-47b9-ba85-942b90a9487e",
   "metadata": {
    "tags": []
   },
   "outputs": [
    {
     "name": "stderr",
     "output_type": "stream",
     "text": [
      "C:\\Users\\ibrah\\AppData\\Local\\Temp\\ipykernel_43680\\3675576982.py:1: FutureWarning: The default value of regex will change from True to False in a future version.\n",
      "  df_news['text'] =  df_news['text'].str.replace('[^\\w\\s]','')\n"
     ]
    }
   ],
   "source": [
    "df_news['text'] =  df_news['text'].str.replace('[^\\w\\s]','')\n",
    "##df_news['title'] = df_news['title'].str.replace('[^\\w\\s]','')"
   ]
  },
  {
   "cell_type": "markdown",
   "id": "8124875c-a2f3-4af1-b68f-21d86d6df7e1",
   "metadata": {
    "jp-MarkdownHeadingCollapsed": true,
    "tags": []
   },
   "source": [
    "### Removing all numeric values"
   ]
  },
  {
   "cell_type": "code",
   "execution_count": 18,
   "id": "e2734e85-ab4d-4baa-a390-3600c1c11b55",
   "metadata": {
    "tags": []
   },
   "outputs": [
    {
     "name": "stderr",
     "output_type": "stream",
     "text": [
      "C:\\Users\\ibrah\\AppData\\Local\\Temp\\ipykernel_43680\\3602369770.py:1: FutureWarning: The default value of regex will change from True to False in a future version.\n",
      "  df_news['text'] = df_news['text'].str.replace('\\d', '')\n"
     ]
    }
   ],
   "source": [
    "df_news['text'] = df_news['text'].str.replace('\\d', '')\n",
    "##df_news['title'] = df_news['title'].str.replace('\\d', '')"
   ]
  },
  {
   "cell_type": "markdown",
   "id": "cd535276-2961-445f-ad11-7c1096782af2",
   "metadata": {
    "tags": []
   },
   "source": [
    "### Removing stop words"
   ]
  },
  {
   "cell_type": "code",
   "execution_count": 19,
   "id": "c6c6ab57-874e-448e-9536-8e31208f28ef",
   "metadata": {
    "tags": []
   },
   "outputs": [
    {
     "name": "stderr",
     "output_type": "stream",
     "text": [
      "[nltk_data] Downloading package stopwords to\n",
      "[nltk_data]     C:\\Users\\ibrah\\AppData\\Roaming\\nltk_data...\n",
      "[nltk_data]   Package stopwords is already up-to-date!\n"
     ]
    },
    {
     "data": {
      "text/plain": [
       "True"
      ]
     },
     "execution_count": 19,
     "metadata": {},
     "output_type": "execute_result"
    }
   ],
   "source": [
    "import nltk\n",
    "from nltk.corpus import stopwords\n",
    "nltk.download('stopwords')"
   ]
  },
  {
   "cell_type": "code",
   "execution_count": 20,
   "id": "50e19047-4fab-4f8a-a15b-8fd68df8f9b3",
   "metadata": {
    "tags": []
   },
   "outputs": [],
   "source": [
    "sw = stopwords.words('english')\n",
    "df_news['text'] = df_news['text'].apply(lambda x: \" \".join(x for x in x.split() if x not in sw))\n",
    "##df_news['title'] = df_news['title'].apply(lambda x: \" \".join(x for x in x.split() if x not in sw))"
   ]
  },
  {
   "cell_type": "markdown",
   "id": "b1206849-d37c-4b68-ba95-287c34d9f223",
   "metadata": {
    "jp-MarkdownHeadingCollapsed": true,
    "tags": []
   },
   "source": [
    "### Removing the words that are used only once in the text column and the title column"
   ]
  },
  {
   "cell_type": "code",
   "execution_count": 21,
   "id": "3e4501da-38b8-4002-bfcf-39f31e0f2218",
   "metadata": {
    "tags": []
   },
   "outputs": [],
   "source": [
    "from collections import Counter\n",
    "import re\n",
    "\n",
    "def remove_single_occurrences_text(text):\n",
    "    # Find the words and count them\n",
    "    words_text = re.findall(r'\\b\\w+\\b', text)\n",
    "    word_counts_text = Counter(words_text)\n",
    "    \n",
    "   # Find the words that are used only once\n",
    "    single_occurrences_text = {word for word, count in word_counts_text.items() if count == 1}\n",
    "    \n",
    "   # Remove the words that are used only once\n",
    "    for word_text in single_occurrences_text:\n",
    "        text = text.replace(f' {word_text} ', ' ')\n",
    "    \n",
    "    # remove  ' '\n",
    "    return ' '.join(text.split())\n",
    "\n",
    "## update\n",
    "df_news['text'] = df_news['text'].apply(remove_single_occurrences_text)"
   ]
  },
  {
   "cell_type": "code",
   "execution_count": 22,
   "id": "958738c6-4a8c-4aa6-adb1-d82dfe72bbf7",
   "metadata": {
    "tags": []
   },
   "outputs": [
    {
     "data": {
      "text/html": [
       "<div>\n",
       "<style scoped>\n",
       "    .dataframe tbody tr th:only-of-type {\n",
       "        vertical-align: middle;\n",
       "    }\n",
       "\n",
       "    .dataframe tbody tr th {\n",
       "        vertical-align: top;\n",
       "    }\n",
       "\n",
       "    .dataframe thead th {\n",
       "        text-align: right;\n",
       "    }\n",
       "</style>\n",
       "<table border=\"1\" class=\"dataframe\">\n",
       "  <thead>\n",
       "    <tr style=\"text-align: right;\">\n",
       "      <th></th>\n",
       "      <th>text</th>\n",
       "      <th>label</th>\n",
       "    </tr>\n",
       "  </thead>\n",
       "  <tbody>\n",
       "    <tr>\n",
       "      <th>0</th>\n",
       "      <td>daniel new york final stretch election hillary...</td>\n",
       "      <td>FAKE</td>\n",
       "    </tr>\n",
       "    <tr>\n",
       "      <th>1</th>\n",
       "      <td>google paul ryan president paul ryan president...</td>\n",
       "      <td>FAKE</td>\n",
       "    </tr>\n",
       "    <tr>\n",
       "      <th>2</th>\n",
       "      <td>us secretary state kerry said monday paris wee...</td>\n",
       "      <td>REAL</td>\n",
       "    </tr>\n",
       "    <tr>\n",
       "      <th>3</th>\n",
       "      <td>kaydee november democrats voters bernie novemb...</td>\n",
       "      <td>FAKE</td>\n",
       "    </tr>\n",
       "    <tr>\n",
       "      <th>4</th>\n",
       "      <td>primary new york frontrunners hillary clinton ...</td>\n",
       "      <td>REAL</td>\n",
       "    </tr>\n",
       "  </tbody>\n",
       "</table>\n",
       "</div>"
      ],
      "text/plain": [
       "                                                text label\n",
       "0  daniel new york final stretch election hillary...  FAKE\n",
       "1  google paul ryan president paul ryan president...  FAKE\n",
       "2  us secretary state kerry said monday paris wee...  REAL\n",
       "3  kaydee november democrats voters bernie novemb...  FAKE\n",
       "4  primary new york frontrunners hillary clinton ...  REAL"
      ]
     },
     "execution_count": 22,
     "metadata": {},
     "output_type": "execute_result"
    }
   ],
   "source": [
    "df_news.head()"
   ]
  },
  {
   "cell_type": "code",
   "execution_count": 23,
   "id": "99d85a87-cf24-42b5-b375-f62862d918db",
   "metadata": {
    "tags": []
   },
   "outputs": [],
   "source": [
    "# def remove_single_occurrences_title(title):\n",
    "#     # Kelimeleri bul ve say\n",
    "#     words_title = re.findall(r'\\b\\w+\\b', title)\n",
    "#     word_counts_title = Counter(words_title)\n",
    "    \n",
    "#     # Bir kez geçen kelimeleri bul\n",
    "#     single_occurrences_title = {word for word, count in word_counts_title.items() if count == 1}\n",
    "    \n",
    "#     # Tek geçen kelimeleri başlıktan çıkar\n",
    "#     for word_title in single_occurrences_title:\n",
    "#         title = title.replace(f' {word_title} ', ' ')\n",
    "    \n",
    "#     # Boşlukları temizle\n",
    "#     return ' '.join(title.split())\n",
    "\n",
    "# # Yeni bir sütun oluştur ve kelimeleri çıkar\n",
    "# df_news['title'] = df_news['title'].apply(remove_single_occurrences_title)"
   ]
  },
  {
   "cell_type": "code",
   "execution_count": 24,
   "id": "4c11cad6-b864-4286-9e0b-e9ab35cb56cd",
   "metadata": {
    "tags": []
   },
   "outputs": [
    {
     "data": {
      "text/html": [
       "<div>\n",
       "<style scoped>\n",
       "    .dataframe tbody tr th:only-of-type {\n",
       "        vertical-align: middle;\n",
       "    }\n",
       "\n",
       "    .dataframe tbody tr th {\n",
       "        vertical-align: top;\n",
       "    }\n",
       "\n",
       "    .dataframe thead th {\n",
       "        text-align: right;\n",
       "    }\n",
       "</style>\n",
       "<table border=\"1\" class=\"dataframe\">\n",
       "  <thead>\n",
       "    <tr style=\"text-align: right;\">\n",
       "      <th></th>\n",
       "      <th>text</th>\n",
       "      <th>label</th>\n",
       "    </tr>\n",
       "  </thead>\n",
       "  <tbody>\n",
       "    <tr>\n",
       "      <th>0</th>\n",
       "      <td>daniel new york final stretch election hillary...</td>\n",
       "      <td>FAKE</td>\n",
       "    </tr>\n",
       "    <tr>\n",
       "      <th>1</th>\n",
       "      <td>google paul ryan president paul ryan president...</td>\n",
       "      <td>FAKE</td>\n",
       "    </tr>\n",
       "    <tr>\n",
       "      <th>2</th>\n",
       "      <td>us secretary state kerry said monday paris wee...</td>\n",
       "      <td>REAL</td>\n",
       "    </tr>\n",
       "    <tr>\n",
       "      <th>3</th>\n",
       "      <td>kaydee november democrats voters bernie novemb...</td>\n",
       "      <td>FAKE</td>\n",
       "    </tr>\n",
       "    <tr>\n",
       "      <th>4</th>\n",
       "      <td>primary new york frontrunners hillary clinton ...</td>\n",
       "      <td>REAL</td>\n",
       "    </tr>\n",
       "  </tbody>\n",
       "</table>\n",
       "</div>"
      ],
      "text/plain": [
       "                                                text label\n",
       "0  daniel new york final stretch election hillary...  FAKE\n",
       "1  google paul ryan president paul ryan president...  FAKE\n",
       "2  us secretary state kerry said monday paris wee...  REAL\n",
       "3  kaydee november democrats voters bernie novemb...  FAKE\n",
       "4  primary new york frontrunners hillary clinton ...  REAL"
      ]
     },
     "execution_count": 24,
     "metadata": {},
     "output_type": "execute_result"
    }
   ],
   "source": [
    "df_news.head()"
   ]
  },
  {
   "cell_type": "markdown",
   "id": "8d2f80cd-9cb8-44ca-ba7c-212c5ca88c5e",
   "metadata": {
    "jp-MarkdownHeadingCollapsed": true,
    "tags": []
   },
   "source": [
    "### Lemmatization"
   ]
  },
  {
   "cell_type": "code",
   "execution_count": 25,
   "id": "6b1ed130-4833-4048-9a77-71935fe93161",
   "metadata": {
    "tags": []
   },
   "outputs": [
    {
     "name": "stderr",
     "output_type": "stream",
     "text": [
      "[nltk_data] Downloading package wordnet to\n",
      "[nltk_data]     C:\\Users\\ibrah\\AppData\\Roaming\\nltk_data...\n",
      "[nltk_data]   Package wordnet is already up-to-date!\n"
     ]
    }
   ],
   "source": [
    "from textblob import Word\n",
    "nltk.download('wordnet')\n",
    "df_news['text'] = df_news['text'].apply(lambda x: \" \".join([Word(word).lemmatize() for word in x.split()])) \n",
    "##df_news['title'] = df_news['title'].apply(lambda x: \" \".join([Word(word).lemmatize() for word in x.split()])) "
   ]
  },
  {
   "cell_type": "code",
   "execution_count": 26,
   "id": "49cd8edb-70d0-4716-9447-17077eb32882",
   "metadata": {
    "tags": []
   },
   "outputs": [
    {
     "data": {
      "text/html": [
       "<div>\n",
       "<style scoped>\n",
       "    .dataframe tbody tr th:only-of-type {\n",
       "        vertical-align: middle;\n",
       "    }\n",
       "\n",
       "    .dataframe tbody tr th {\n",
       "        vertical-align: top;\n",
       "    }\n",
       "\n",
       "    .dataframe thead th {\n",
       "        text-align: right;\n",
       "    }\n",
       "</style>\n",
       "<table border=\"1\" class=\"dataframe\">\n",
       "  <thead>\n",
       "    <tr style=\"text-align: right;\">\n",
       "      <th></th>\n",
       "      <th>text</th>\n",
       "      <th>label</th>\n",
       "    </tr>\n",
       "  </thead>\n",
       "  <tbody>\n",
       "    <tr>\n",
       "      <th>0</th>\n",
       "      <td>daniel new york final stretch election hillary...</td>\n",
       "      <td>FAKE</td>\n",
       "    </tr>\n",
       "    <tr>\n",
       "      <th>1</th>\n",
       "      <td>google paul ryan president paul ryan president...</td>\n",
       "      <td>FAKE</td>\n",
       "    </tr>\n",
       "    <tr>\n",
       "      <th>2</th>\n",
       "      <td>u secretary state kerry said monday paris week...</td>\n",
       "      <td>REAL</td>\n",
       "    </tr>\n",
       "    <tr>\n",
       "      <th>3</th>\n",
       "      <td>kaydee november democrat voter bernie november...</td>\n",
       "      <td>FAKE</td>\n",
       "    </tr>\n",
       "    <tr>\n",
       "      <th>4</th>\n",
       "      <td>primary new york frontrunners hillary clinton ...</td>\n",
       "      <td>REAL</td>\n",
       "    </tr>\n",
       "  </tbody>\n",
       "</table>\n",
       "</div>"
      ],
      "text/plain": [
       "                                                text label\n",
       "0  daniel new york final stretch election hillary...  FAKE\n",
       "1  google paul ryan president paul ryan president...  FAKE\n",
       "2  u secretary state kerry said monday paris week...  REAL\n",
       "3  kaydee november democrat voter bernie november...  FAKE\n",
       "4  primary new york frontrunners hillary clinton ...  REAL"
      ]
     },
     "execution_count": 26,
     "metadata": {},
     "output_type": "execute_result"
    }
   ],
   "source": [
    "df_news.head()"
   ]
  },
  {
   "cell_type": "markdown",
   "id": "61e7803a-aa23-4247-9a9c-98515af0bb8f",
   "metadata": {
    "tags": []
   },
   "source": [
    "### Transforming Label Columns to 1 or 0"
   ]
  },
  {
   "cell_type": "code",
   "execution_count": 27,
   "id": "d09a0089-15d7-45c7-80e2-e18afdac15eb",
   "metadata": {
    "tags": []
   },
   "outputs": [],
   "source": [
    "df_news['label'] = df_news['label'].replace({'FAKE':0, 'REAL':1})"
   ]
  },
  {
   "cell_type": "code",
   "execution_count": 28,
   "id": "23b24f50-467e-481f-9b07-d48c5dc3488d",
   "metadata": {
    "tags": []
   },
   "outputs": [
    {
     "data": {
      "text/html": [
       "<div>\n",
       "<style scoped>\n",
       "    .dataframe tbody tr th:only-of-type {\n",
       "        vertical-align: middle;\n",
       "    }\n",
       "\n",
       "    .dataframe tbody tr th {\n",
       "        vertical-align: top;\n",
       "    }\n",
       "\n",
       "    .dataframe thead th {\n",
       "        text-align: right;\n",
       "    }\n",
       "</style>\n",
       "<table border=\"1\" class=\"dataframe\">\n",
       "  <thead>\n",
       "    <tr style=\"text-align: right;\">\n",
       "      <th></th>\n",
       "      <th>text</th>\n",
       "      <th>label</th>\n",
       "    </tr>\n",
       "  </thead>\n",
       "  <tbody>\n",
       "    <tr>\n",
       "      <th>0</th>\n",
       "      <td>daniel new york final stretch election hillary...</td>\n",
       "      <td>0</td>\n",
       "    </tr>\n",
       "    <tr>\n",
       "      <th>1</th>\n",
       "      <td>google paul ryan president paul ryan president...</td>\n",
       "      <td>0</td>\n",
       "    </tr>\n",
       "    <tr>\n",
       "      <th>2</th>\n",
       "      <td>u secretary state kerry said monday paris week...</td>\n",
       "      <td>1</td>\n",
       "    </tr>\n",
       "    <tr>\n",
       "      <th>3</th>\n",
       "      <td>kaydee november democrat voter bernie november...</td>\n",
       "      <td>0</td>\n",
       "    </tr>\n",
       "    <tr>\n",
       "      <th>4</th>\n",
       "      <td>primary new york frontrunners hillary clinton ...</td>\n",
       "      <td>1</td>\n",
       "    </tr>\n",
       "  </tbody>\n",
       "</table>\n",
       "</div>"
      ],
      "text/plain": [
       "                                                text  label\n",
       "0  daniel new york final stretch election hillary...      0\n",
       "1  google paul ryan president paul ryan president...      0\n",
       "2  u secretary state kerry said monday paris week...      1\n",
       "3  kaydee november democrat voter bernie november...      0\n",
       "4  primary new york frontrunners hillary clinton ...      1"
      ]
     },
     "execution_count": 28,
     "metadata": {},
     "output_type": "execute_result"
    }
   ],
   "source": [
    "df_news.head()"
   ]
  },
  {
   "cell_type": "markdown",
   "id": "9407a822-f024-436b-a7de-56ec3c8ac061",
   "metadata": {
    "tags": []
   },
   "source": [
    "### Removing Non-English words"
   ]
  },
  {
   "cell_type": "code",
   "execution_count": 29,
   "id": "f2dbc021-640c-4932-a165-b9bbde6380f4",
   "metadata": {
    "tags": []
   },
   "outputs": [
    {
     "name": "stderr",
     "output_type": "stream",
     "text": [
      "[nltk_data] Downloading package words to\n",
      "[nltk_data]     C:\\Users\\ibrah\\AppData\\Roaming\\nltk_data...\n",
      "[nltk_data]   Package words is already up-to-date!\n"
     ]
    }
   ],
   "source": [
    "import nltk\n",
    "nltk.download('words')\n",
    "from nltk.corpus import words\n",
    "\n",
    "# İngilizce kelimeleri bir küme olarak al\n",
    "english_words = set(words.words())"
   ]
  },
  {
   "cell_type": "code",
   "execution_count": 30,
   "id": "632aa25a-b4fe-466d-9774-56ab3106c9a6",
   "metadata": {},
   "outputs": [],
   "source": [
    "def remove_non_english_words(text):\n",
    "    words_in_text = text.split()\n",
    "    valid_words = [word for word in words_in_text if word.lower() in english_words]\n",
    "    return ' '.join(valid_words)\n",
    "\n",
    "df_news['text'] = df_news['text'].apply(remove_non_english_words)"
   ]
  },
  {
   "cell_type": "markdown",
   "id": "7e4c0bfe-c08e-4706-aa55-a3e11ae0413f",
   "metadata": {
    "tags": []
   },
   "source": [
    "### Removing 'u' characters from text"
   ]
  },
  {
   "cell_type": "code",
   "execution_count": 31,
   "id": "0419fb1d-cb8d-47a6-acb0-1dcb3f4d2b66",
   "metadata": {
    "tags": []
   },
   "outputs": [
    {
     "name": "stdout",
     "output_type": "stream",
     "text": [
      "0    new york final stretch election gone war unpre...\n",
      "1    president president cowardice trump trump tape...\n",
      "2    secretary state kerry said week criticism offi...\n",
      "3    democrat voter time democratic primary candida...\n",
      "4    primary new york trump poll trump win delegate...\n",
      "Name: text, dtype: object\n"
     ]
    }
   ],
   "source": [
    "# \"u\" kelimesini kaldırma\n",
    "df_news['text'] = df_news['text'].str.replace(r'\\bu\\b', '', regex=True)\n",
    "\n",
    "# Temizlik sonrası boşlukları temizleme\n",
    "df_news['text'] = df_news['text'].str.replace(r'\\s+', ' ', regex=True).str.strip()\n",
    "\n",
    "# Sonucu kontrol etme\n",
    "print(df_news['text'].head())"
   ]
  },
  {
   "cell_type": "markdown",
   "id": "67f3ccdb-98c7-4759-9572-ded3925ddfc3",
   "metadata": {
    "tags": []
   },
   "source": [
    "### Removing empty rows"
   ]
  },
  {
   "cell_type": "code",
   "execution_count": 32,
   "id": "cababef7-cd53-42b7-a7f8-37105b94c285",
   "metadata": {
    "tags": []
   },
   "outputs": [
    {
     "name": "stdout",
     "output_type": "stream",
     "text": [
      "Empty Row numbers: 1108\n"
     ]
    }
   ],
   "source": [
    "empty_texts = df_news[df_news['text'].str.strip() == '']\n",
    "\n",
    "print(f\"Empty Row numbers: {empty_texts.shape[0]}\")"
   ]
  },
  {
   "cell_type": "code",
   "execution_count": 33,
   "id": "aafc498d-358d-4e4c-a4ec-4ae6705b9840",
   "metadata": {
    "tags": []
   },
   "outputs": [],
   "source": [
    "# Boş metinleri içeren satırları çıkar\n",
    "df_news = df_news[df_news['text'].str.strip().astype(bool)]"
   ]
  },
  {
   "cell_type": "markdown",
   "id": "e1a4d0e5-7e34-444f-9b43-513bd4c569e4",
   "metadata": {},
   "source": [
    "### Removing two characters words"
   ]
  },
  {
   "cell_type": "code",
   "execution_count": 34,
   "id": "a66c9dc4-bed4-4069-b4aa-dabb1970ec06",
   "metadata": {
    "tags": []
   },
   "outputs": [],
   "source": [
    "# İki harfli kelimeleri temizle\n",
    "df_news['text'] = df_news['text'].apply(lambda x: \" \".join([word for word in x.split() if len(word) > 2]))"
   ]
  },
  {
   "cell_type": "markdown",
   "id": "0689a602-0124-431b-858c-81885db0789f",
   "metadata": {
    "tags": []
   },
   "source": [
    "# Word Cloud"
   ]
  },
  {
   "cell_type": "code",
   "execution_count": 35,
   "id": "24ed739d-b644-42f5-9f37-5de6afe41e3c",
   "metadata": {
    "tags": []
   },
   "outputs": [
    {
     "name": "stdout",
     "output_type": "stream",
     "text": [
      "Requirement already satisfied: wordcloud in c:\\users\\ibrah\\anaconda3\\lib\\site-packages (1.9.3)\n",
      "Requirement already satisfied: numpy>=1.6.1 in c:\\users\\ibrah\\anaconda3\\lib\\site-packages (from wordcloud) (1.24.3)\n",
      "Requirement already satisfied: pillow in c:\\users\\ibrah\\anaconda3\\lib\\site-packages (from wordcloud) (9.4.0)\n",
      "Requirement already satisfied: matplotlib in c:\\users\\ibrah\\anaconda3\\lib\\site-packages (from wordcloud) (3.7.1)\n",
      "Requirement already satisfied: contourpy>=1.0.1 in c:\\users\\ibrah\\anaconda3\\lib\\site-packages (from matplotlib->wordcloud) (1.0.5)\n",
      "Requirement already satisfied: cycler>=0.10 in c:\\users\\ibrah\\anaconda3\\lib\\site-packages (from matplotlib->wordcloud) (0.11.0)\n",
      "Requirement already satisfied: fonttools>=4.22.0 in c:\\users\\ibrah\\anaconda3\\lib\\site-packages (from matplotlib->wordcloud) (4.25.0)\n",
      "Requirement already satisfied: kiwisolver>=1.0.1 in c:\\users\\ibrah\\anaconda3\\lib\\site-packages (from matplotlib->wordcloud) (1.4.4)\n",
      "Requirement already satisfied: packaging>=20.0 in c:\\users\\ibrah\\anaconda3\\lib\\site-packages (from matplotlib->wordcloud) (23.0)\n",
      "Requirement already satisfied: pyparsing>=2.3.1 in c:\\users\\ibrah\\anaconda3\\lib\\site-packages (from matplotlib->wordcloud) (3.0.9)\n",
      "Requirement already satisfied: python-dateutil>=2.7 in c:\\users\\ibrah\\anaconda3\\lib\\site-packages (from matplotlib->wordcloud) (2.8.2)\n",
      "Requirement already satisfied: six>=1.5 in c:\\users\\ibrah\\anaconda3\\lib\\site-packages (from python-dateutil>=2.7->matplotlib->wordcloud) (1.16.0)\n"
     ]
    }
   ],
   "source": [
    "!pip install wordcloud"
   ]
  },
  {
   "cell_type": "code",
   "execution_count": 36,
   "id": "5ecad567-58e7-42a3-b529-f2acd4426d69",
   "metadata": {
    "tags": []
   },
   "outputs": [],
   "source": [
    "from os import path\n",
    "from PIL import Image\n",
    "from wordcloud import WordCloud, STOPWORDS, ImageColorGenerator\n",
    "import matplotlib.pyplot as plt"
   ]
  },
  {
   "cell_type": "code",
   "execution_count": 37,
   "id": "7f09a1dc-62ff-4620-bf48-0cc360340605",
   "metadata": {
    "tags": []
   },
   "outputs": [],
   "source": [
    "all_text = \" \".join(i for i in df_news.text)"
   ]
  },
  {
   "cell_type": "code",
   "execution_count": 140,
   "id": "b5268edb-48c4-4da7-bf60-185b01b8ce45",
   "metadata": {
    "tags": []
   },
   "outputs": [],
   "source": [
    "wordcloud = WordCloud(max_font_size = 60, \n",
    "                     background_color = \"white\").generate(all_text)\n",
    "plt.figure(figsize = [10,10])\n",
    "plt.imshow(wordcloud, interpolation = \"bilinear\")\n",
    "plt.axis(\"off\")\n",
    "##wordcloud.to_file('wordcloud_text.png')\n",
    "plt.savefig('wordcloud_text.png', dpi=150, bbox_inches='tight')\n",
    "plt.close()"
   ]
  },
  {
   "cell_type": "code",
   "execution_count": 39,
   "id": "49683da6-ddb8-4ef9-850d-b549fe3455c2",
   "metadata": {
    "tags": []
   },
   "outputs": [],
   "source": [
    "## word cloud for title"
   ]
  },
  {
   "cell_type": "code",
   "execution_count": 40,
   "id": "4ac01d2c-29c5-4988-9824-34349ad51237",
   "metadata": {
    "tags": []
   },
   "outputs": [],
   "source": [
    "##all_title = \" \".join(x for x in df_news.title)"
   ]
  },
  {
   "cell_type": "code",
   "execution_count": 41,
   "id": "47908d91-53d2-4e83-a14f-6819d3522a2b",
   "metadata": {
    "tags": []
   },
   "outputs": [],
   "source": [
    "# wordcloud_title = WordCloud(max_font_size = 60, \n",
    "#                      background_color = \"white\").generate(all_title)\n",
    "# plt.figure(figsize = [10,10])\n",
    "# plt.imshow(wordcloud_title, interpolation = \"bilinear\")\n",
    "# plt.axis(\"off\")\n",
    "# ##wordcloud.to_file('wordcloud_text.png')\n",
    "# plt.savefig('wordcloud_title.png', dpi=150, bbox_inches='tight')\n",
    "# plt.close()"
   ]
  },
  {
   "cell_type": "code",
   "execution_count": 139,
   "id": "3c309534-051e-4dfd-abd7-adbb3ff8bd70",
   "metadata": {
    "tags": []
   },
   "outputs": [
    {
     "name": "stdout",
     "output_type": "stream",
     "text": [
      "Total number of words in 'text' column: 7674275\n"
     ]
    }
   ],
   "source": [
    "def count_words(text):\n",
    "    if isinstance(text, str):\n",
    "        return len(text.split())\n",
    "    return 0  # Eğer text None veya boşsa 0 döner\n",
    "\n",
    "# Kelime sayısını hesaplayın\n",
    "total_words = df_news['text'].apply(count_words).sum()\n",
    "\n",
    "print(f\"Total number of words in 'text' column: {total_words}\")\n"
   ]
  },
  {
   "cell_type": "markdown",
   "id": "501749d3-66ac-4a92-9ed7-55914d27d662",
   "metadata": {
    "tags": []
   },
   "source": [
    "# Features Engineering"
   ]
  },
  {
   "cell_type": "markdown",
   "id": "9cecd700-6a02-4ea4-9c7d-5ab71f84ff6a",
   "metadata": {
    "tags": []
   },
   "source": [
    "### Test-train"
   ]
  },
  {
   "cell_type": "code",
   "execution_count": 42,
   "id": "60acb6cf-a71d-47e0-a5c1-87edd5cb0284",
   "metadata": {
    "tags": []
   },
   "outputs": [
    {
     "name": "stdout",
     "output_type": "stream",
     "text": [
      "Requirement already satisfied: scikit-learn in c:\\users\\ibrah\\anaconda3\\lib\\site-packages (1.3.0)\n",
      "Requirement already satisfied: xgboost in c:\\users\\ibrah\\anaconda3\\lib\\site-packages (2.0.2)\n",
      "Requirement already satisfied: lightgbm in c:\\users\\ibrah\\anaconda3\\lib\\site-packages (4.2.0)\n",
      "Requirement already satisfied: numpy>=1.17.3 in c:\\users\\ibrah\\anaconda3\\lib\\site-packages (from scikit-learn) (1.24.3)\n",
      "Requirement already satisfied: scipy>=1.5.0 in c:\\users\\ibrah\\anaconda3\\lib\\site-packages (from scikit-learn) (1.10.1)\n",
      "Requirement already satisfied: joblib>=1.1.1 in c:\\users\\ibrah\\anaconda3\\lib\\site-packages (from scikit-learn) (1.2.0)\n",
      "Requirement already satisfied: threadpoolctl>=2.0.0 in c:\\users\\ibrah\\anaconda3\\lib\\site-packages (from scikit-learn) (2.2.0)\n",
      "Note: you may need to restart the kernel to use updated packages.\n"
     ]
    }
   ],
   "source": [
    "pip install scikit-learn xgboost lightgbm"
   ]
  },
  {
   "cell_type": "code",
   "execution_count": 43,
   "id": "5ef4f274-192e-48f0-b546-fe809a5a3291",
   "metadata": {
    "tags": []
   },
   "outputs": [],
   "source": [
    "from textblob import TextBlob\n",
    "from sklearn import model_selection, preprocessing, linear_model, naive_bayes, metrics\n",
    "from sklearn.feature_extraction.text import TfidfVectorizer, CountVectorizer\n",
    "from sklearn import decomposition, ensemble\n",
    "import pandas, xgboost, numpy, textblob, string\n",
    "from tensorflow.keras.preprocessing import text, sequence\n",
    "from tensorflow.keras import layers, models, optimizers\n",
    "import lightgbm as lgb\n",
    "import xgboost as xgb\n",
    "from sklearn.linear_model import LogisticRegression\n",
    "from sklearn.naive_bayes import MultinomialNB\n",
    "from sklearn.ensemble import RandomForestClassifier\n",
    "from sklearn.model_selection import train_test_split, cross_val_score"
   ]
  },
  {
   "cell_type": "code",
   "execution_count": 44,
   "id": "da4c3dcb-b24e-4ba3-a157-cbb88dbe03b3",
   "metadata": {
    "tags": []
   },
   "outputs": [],
   "source": [
    "X_train, X_test, Y_train, Y_test =  model_selection.train_test_split(df_news['text'], df_news['label'], random_state=1)"
   ]
  },
  {
   "cell_type": "markdown",
   "id": "838cedb7-a9a3-4738-b8af-280b3e7e0aee",
   "metadata": {
    "tags": []
   },
   "source": [
    "### Count Vectors"
   ]
  },
  {
   "cell_type": "code",
   "execution_count": 45,
   "id": "02c8df86-4657-4135-b8f0-7d1aab56a489",
   "metadata": {
    "tags": []
   },
   "outputs": [
    {
     "data": {
      "text/html": [
       "<style>#sk-container-id-1 {color: black;}#sk-container-id-1 pre{padding: 0;}#sk-container-id-1 div.sk-toggleable {background-color: white;}#sk-container-id-1 label.sk-toggleable__label {cursor: pointer;display: block;width: 100%;margin-bottom: 0;padding: 0.3em;box-sizing: border-box;text-align: center;}#sk-container-id-1 label.sk-toggleable__label-arrow:before {content: \"▸\";float: left;margin-right: 0.25em;color: #696969;}#sk-container-id-1 label.sk-toggleable__label-arrow:hover:before {color: black;}#sk-container-id-1 div.sk-estimator:hover label.sk-toggleable__label-arrow:before {color: black;}#sk-container-id-1 div.sk-toggleable__content {max-height: 0;max-width: 0;overflow: hidden;text-align: left;background-color: #f0f8ff;}#sk-container-id-1 div.sk-toggleable__content pre {margin: 0.2em;color: black;border-radius: 0.25em;background-color: #f0f8ff;}#sk-container-id-1 input.sk-toggleable__control:checked~div.sk-toggleable__content {max-height: 200px;max-width: 100%;overflow: auto;}#sk-container-id-1 input.sk-toggleable__control:checked~label.sk-toggleable__label-arrow:before {content: \"▾\";}#sk-container-id-1 div.sk-estimator input.sk-toggleable__control:checked~label.sk-toggleable__label {background-color: #d4ebff;}#sk-container-id-1 div.sk-label input.sk-toggleable__control:checked~label.sk-toggleable__label {background-color: #d4ebff;}#sk-container-id-1 input.sk-hidden--visually {border: 0;clip: rect(1px 1px 1px 1px);clip: rect(1px, 1px, 1px, 1px);height: 1px;margin: -1px;overflow: hidden;padding: 0;position: absolute;width: 1px;}#sk-container-id-1 div.sk-estimator {font-family: monospace;background-color: #f0f8ff;border: 1px dotted black;border-radius: 0.25em;box-sizing: border-box;margin-bottom: 0.5em;}#sk-container-id-1 div.sk-estimator:hover {background-color: #d4ebff;}#sk-container-id-1 div.sk-parallel-item::after {content: \"\";width: 100%;border-bottom: 1px solid gray;flex-grow: 1;}#sk-container-id-1 div.sk-label:hover label.sk-toggleable__label {background-color: #d4ebff;}#sk-container-id-1 div.sk-serial::before {content: \"\";position: absolute;border-left: 1px solid gray;box-sizing: border-box;top: 0;bottom: 0;left: 50%;z-index: 0;}#sk-container-id-1 div.sk-serial {display: flex;flex-direction: column;align-items: center;background-color: white;padding-right: 0.2em;padding-left: 0.2em;position: relative;}#sk-container-id-1 div.sk-item {position: relative;z-index: 1;}#sk-container-id-1 div.sk-parallel {display: flex;align-items: stretch;justify-content: center;background-color: white;position: relative;}#sk-container-id-1 div.sk-item::before, #sk-container-id-1 div.sk-parallel-item::before {content: \"\";position: absolute;border-left: 1px solid gray;box-sizing: border-box;top: 0;bottom: 0;left: 50%;z-index: -1;}#sk-container-id-1 div.sk-parallel-item {display: flex;flex-direction: column;z-index: 1;position: relative;background-color: white;}#sk-container-id-1 div.sk-parallel-item:first-child::after {align-self: flex-end;width: 50%;}#sk-container-id-1 div.sk-parallel-item:last-child::after {align-self: flex-start;width: 50%;}#sk-container-id-1 div.sk-parallel-item:only-child::after {width: 0;}#sk-container-id-1 div.sk-dashed-wrapped {border: 1px dashed gray;margin: 0 0.4em 0.5em 0.4em;box-sizing: border-box;padding-bottom: 0.4em;background-color: white;}#sk-container-id-1 div.sk-label label {font-family: monospace;font-weight: bold;display: inline-block;line-height: 1.2em;}#sk-container-id-1 div.sk-label-container {text-align: center;}#sk-container-id-1 div.sk-container {/* jupyter's `normalize.less` sets `[hidden] { display: none; }` but bootstrap.min.css set `[hidden] { display: none !important; }` so we also need the `!important` here to be able to override the default hidden behavior on the sphinx rendered scikit-learn.org. See: https://github.com/scikit-learn/scikit-learn/issues/21755 */display: inline-block !important;position: relative;}#sk-container-id-1 div.sk-text-repr-fallback {display: none;}</style><div id=\"sk-container-id-1\" class=\"sk-top-container\"><div class=\"sk-text-repr-fallback\"><pre>CountVectorizer()</pre><b>In a Jupyter environment, please rerun this cell to show the HTML representation or trust the notebook. <br />On GitHub, the HTML representation is unable to render, please try loading this page with nbviewer.org.</b></div><div class=\"sk-container\" hidden><div class=\"sk-item\"><div class=\"sk-estimator sk-toggleable\"><input class=\"sk-toggleable__control sk-hidden--visually\" id=\"sk-estimator-id-1\" type=\"checkbox\" checked><label for=\"sk-estimator-id-1\" class=\"sk-toggleable__label sk-toggleable__label-arrow\">CountVectorizer</label><div class=\"sk-toggleable__content\"><pre>CountVectorizer()</pre></div></div></div></div></div>"
      ],
      "text/plain": [
       "CountVectorizer()"
      ]
     },
     "execution_count": 45,
     "metadata": {},
     "output_type": "execute_result"
    }
   ],
   "source": [
    "vectorizer = CountVectorizer()\n",
    "vectorizer.fit(X_train)"
   ]
  },
  {
   "cell_type": "code",
   "execution_count": 46,
   "id": "fe1abbf6-a492-4669-9d0f-8b3d301291c2",
   "metadata": {
    "tags": []
   },
   "outputs": [],
   "source": [
    "x_train_count = vectorizer.transform(X_train)\n",
    "x_test_count = vectorizer.transform(X_test)"
   ]
  },
  {
   "cell_type": "code",
   "execution_count": 47,
   "id": "2bf3df0a-4c7a-4634-86f9-d191e077ede3",
   "metadata": {
    "tags": []
   },
   "outputs": [
    {
     "data": {
      "text/plain": [
       "array([[0, 0, 0, ..., 0, 0, 0],\n",
       "       [0, 0, 0, ..., 0, 0, 0],\n",
       "       [0, 0, 0, ..., 0, 0, 0],\n",
       "       ...,\n",
       "       [0, 0, 0, ..., 0, 0, 0],\n",
       "       [0, 0, 0, ..., 0, 0, 0],\n",
       "       [0, 0, 0, ..., 0, 0, 0]], dtype=int64)"
      ]
     },
     "execution_count": 47,
     "metadata": {},
     "output_type": "execute_result"
    }
   ],
   "source": [
    "x_train_count.toarray()"
   ]
  },
  {
   "cell_type": "markdown",
   "id": "229ecf13-64da-494a-a287-0ca5aa776ad6",
   "metadata": {
    "tags": []
   },
   "source": [
    "### TF-IDF"
   ]
  },
  {
   "cell_type": "markdown",
   "id": "4ceeef69-e396-4276-964a-f9e36c6dbb33",
   "metadata": {
    "tags": []
   },
   "source": [
    "#### Word-level"
   ]
  },
  {
   "cell_type": "code",
   "execution_count": 84,
   "id": "8ba3a08b-8aa0-4afb-90e3-89f0506852d3",
   "metadata": {
    "tags": []
   },
   "outputs": [
    {
     "data": {
      "text/html": [
       "<style>#sk-container-id-5 {color: black;}#sk-container-id-5 pre{padding: 0;}#sk-container-id-5 div.sk-toggleable {background-color: white;}#sk-container-id-5 label.sk-toggleable__label {cursor: pointer;display: block;width: 100%;margin-bottom: 0;padding: 0.3em;box-sizing: border-box;text-align: center;}#sk-container-id-5 label.sk-toggleable__label-arrow:before {content: \"▸\";float: left;margin-right: 0.25em;color: #696969;}#sk-container-id-5 label.sk-toggleable__label-arrow:hover:before {color: black;}#sk-container-id-5 div.sk-estimator:hover label.sk-toggleable__label-arrow:before {color: black;}#sk-container-id-5 div.sk-toggleable__content {max-height: 0;max-width: 0;overflow: hidden;text-align: left;background-color: #f0f8ff;}#sk-container-id-5 div.sk-toggleable__content pre {margin: 0.2em;color: black;border-radius: 0.25em;background-color: #f0f8ff;}#sk-container-id-5 input.sk-toggleable__control:checked~div.sk-toggleable__content {max-height: 200px;max-width: 100%;overflow: auto;}#sk-container-id-5 input.sk-toggleable__control:checked~label.sk-toggleable__label-arrow:before {content: \"▾\";}#sk-container-id-5 div.sk-estimator input.sk-toggleable__control:checked~label.sk-toggleable__label {background-color: #d4ebff;}#sk-container-id-5 div.sk-label input.sk-toggleable__control:checked~label.sk-toggleable__label {background-color: #d4ebff;}#sk-container-id-5 input.sk-hidden--visually {border: 0;clip: rect(1px 1px 1px 1px);clip: rect(1px, 1px, 1px, 1px);height: 1px;margin: -1px;overflow: hidden;padding: 0;position: absolute;width: 1px;}#sk-container-id-5 div.sk-estimator {font-family: monospace;background-color: #f0f8ff;border: 1px dotted black;border-radius: 0.25em;box-sizing: border-box;margin-bottom: 0.5em;}#sk-container-id-5 div.sk-estimator:hover {background-color: #d4ebff;}#sk-container-id-5 div.sk-parallel-item::after {content: \"\";width: 100%;border-bottom: 1px solid gray;flex-grow: 1;}#sk-container-id-5 div.sk-label:hover label.sk-toggleable__label {background-color: #d4ebff;}#sk-container-id-5 div.sk-serial::before {content: \"\";position: absolute;border-left: 1px solid gray;box-sizing: border-box;top: 0;bottom: 0;left: 50%;z-index: 0;}#sk-container-id-5 div.sk-serial {display: flex;flex-direction: column;align-items: center;background-color: white;padding-right: 0.2em;padding-left: 0.2em;position: relative;}#sk-container-id-5 div.sk-item {position: relative;z-index: 1;}#sk-container-id-5 div.sk-parallel {display: flex;align-items: stretch;justify-content: center;background-color: white;position: relative;}#sk-container-id-5 div.sk-item::before, #sk-container-id-5 div.sk-parallel-item::before {content: \"\";position: absolute;border-left: 1px solid gray;box-sizing: border-box;top: 0;bottom: 0;left: 50%;z-index: -1;}#sk-container-id-5 div.sk-parallel-item {display: flex;flex-direction: column;z-index: 1;position: relative;background-color: white;}#sk-container-id-5 div.sk-parallel-item:first-child::after {align-self: flex-end;width: 50%;}#sk-container-id-5 div.sk-parallel-item:last-child::after {align-self: flex-start;width: 50%;}#sk-container-id-5 div.sk-parallel-item:only-child::after {width: 0;}#sk-container-id-5 div.sk-dashed-wrapped {border: 1px dashed gray;margin: 0 0.4em 0.5em 0.4em;box-sizing: border-box;padding-bottom: 0.4em;background-color: white;}#sk-container-id-5 div.sk-label label {font-family: monospace;font-weight: bold;display: inline-block;line-height: 1.2em;}#sk-container-id-5 div.sk-label-container {text-align: center;}#sk-container-id-5 div.sk-container {/* jupyter's `normalize.less` sets `[hidden] { display: none; }` but bootstrap.min.css set `[hidden] { display: none !important; }` so we also need the `!important` here to be able to override the default hidden behavior on the sphinx rendered scikit-learn.org. See: https://github.com/scikit-learn/scikit-learn/issues/21755 */display: inline-block !important;position: relative;}#sk-container-id-5 div.sk-text-repr-fallback {display: none;}</style><div id=\"sk-container-id-5\" class=\"sk-top-container\"><div class=\"sk-text-repr-fallback\"><pre>TfidfVectorizer(stop_words=&#x27;english&#x27;)</pre><b>In a Jupyter environment, please rerun this cell to show the HTML representation or trust the notebook. <br />On GitHub, the HTML representation is unable to render, please try loading this page with nbviewer.org.</b></div><div class=\"sk-container\" hidden><div class=\"sk-item\"><div class=\"sk-estimator sk-toggleable\"><input class=\"sk-toggleable__control sk-hidden--visually\" id=\"sk-estimator-id-5\" type=\"checkbox\" checked><label for=\"sk-estimator-id-5\" class=\"sk-toggleable__label sk-toggleable__label-arrow\">TfidfVectorizer</label><div class=\"sk-toggleable__content\"><pre>TfidfVectorizer(stop_words=&#x27;english&#x27;)</pre></div></div></div></div></div>"
      ],
      "text/plain": [
       "TfidfVectorizer(stop_words='english')"
      ]
     },
     "execution_count": 84,
     "metadata": {},
     "output_type": "execute_result"
    }
   ],
   "source": [
    "tf_idf_word_vectorizer = TfidfVectorizer(stop_words='english')\n",
    "tf_idf_word_vectorizer.fit(X_train)"
   ]
  },
  {
   "cell_type": "code",
   "execution_count": 85,
   "id": "b44db7fb-22a8-4ca4-b73a-330cdf67761c",
   "metadata": {
    "tags": []
   },
   "outputs": [],
   "source": [
    "x_train_tf_idf_word = tf_idf_word_vectorizer.transform(X_train)\n",
    "x_test_tf_idf_word  =  tf_idf_word_vectorizer.transform(X_test)"
   ]
  },
  {
   "cell_type": "code",
   "execution_count": 50,
   "id": "17630250-761e-4efb-92d6-3bc5ded3e055",
   "metadata": {
    "tags": []
   },
   "outputs": [
    {
     "data": {
      "text/plain": [
       "array([[0., 0., 0., ..., 0., 0., 0.],\n",
       "       [0., 0., 0., ..., 0., 0., 0.],\n",
       "       [0., 0., 0., ..., 0., 0., 0.],\n",
       "       ...,\n",
       "       [0., 0., 0., ..., 0., 0., 0.],\n",
       "       [0., 0., 0., ..., 0., 0., 0.],\n",
       "       [0., 0., 0., ..., 0., 0., 0.]])"
      ]
     },
     "execution_count": 50,
     "metadata": {},
     "output_type": "execute_result"
    }
   ],
   "source": [
    "x_train_tf_idf_word.toarray()"
   ]
  },
  {
   "cell_type": "code",
   "execution_count": 51,
   "id": "ac669c1f-fcf5-4fe1-991d-e00978d0c56f",
   "metadata": {
    "tags": []
   },
   "outputs": [
    {
     "name": "stdout",
     "output_type": "stream",
     "text": [
      "Empty row number: 13\n"
     ]
    }
   ],
   "source": [
    "empty_texts = [text for text in X_train if not text.strip()]\n",
    "print(\"Empty row number:\", len(empty_texts))"
   ]
  },
  {
   "cell_type": "code",
   "execution_count": 52,
   "id": "825e582c-c29e-4ce6-993d-f80bbf6082a7",
   "metadata": {
    "tags": []
   },
   "outputs": [
    {
     "data": {
      "text/plain": [
       "array(['aam', 'aardvark', 'aba', 'abacus', 'abalone', 'abandon',\n",
       "       'abandoned', 'abandonment', 'abatement', 'abatis'], dtype=object)"
      ]
     },
     "execution_count": 52,
     "metadata": {},
     "output_type": "execute_result"
    }
   ],
   "source": [
    "tf_idf_word_vectorizer.get_feature_names_out()[0:10]"
   ]
  },
  {
   "cell_type": "code",
   "execution_count": 53,
   "id": "8b903529-ae55-48d3-8562-a40e2f292dc1",
   "metadata": {
    "tags": []
   },
   "outputs": [
    {
     "data": {
      "text/plain": [
       "13278    celebrated bar family warsaw celebrated bar wa...\n",
       "56597    tweet black power front student worker south y...\n",
       "43120    rep lawyer reed come press conference today co...\n",
       "5090     director said investigator new bureau closed c...\n",
       "31010    formally investigation formally investigation ...\n",
       "Name: text, dtype: object"
      ]
     },
     "execution_count": 53,
     "metadata": {},
     "output_type": "execute_result"
    }
   ],
   "source": [
    "X_train.head()"
   ]
  },
  {
   "cell_type": "markdown",
   "id": "e7d948f9-b8e1-41d6-8133-f1cd07736374",
   "metadata": {
    "tags": []
   },
   "source": [
    "#### n-gram level"
   ]
  },
  {
   "cell_type": "code",
   "execution_count": 54,
   "id": "2fab456f-ec91-4f25-9662-c84998c9a335",
   "metadata": {
    "tags": []
   },
   "outputs": [
    {
     "data": {
      "text/html": [
       "<style>#sk-container-id-3 {color: black;}#sk-container-id-3 pre{padding: 0;}#sk-container-id-3 div.sk-toggleable {background-color: white;}#sk-container-id-3 label.sk-toggleable__label {cursor: pointer;display: block;width: 100%;margin-bottom: 0;padding: 0.3em;box-sizing: border-box;text-align: center;}#sk-container-id-3 label.sk-toggleable__label-arrow:before {content: \"▸\";float: left;margin-right: 0.25em;color: #696969;}#sk-container-id-3 label.sk-toggleable__label-arrow:hover:before {color: black;}#sk-container-id-3 div.sk-estimator:hover label.sk-toggleable__label-arrow:before {color: black;}#sk-container-id-3 div.sk-toggleable__content {max-height: 0;max-width: 0;overflow: hidden;text-align: left;background-color: #f0f8ff;}#sk-container-id-3 div.sk-toggleable__content pre {margin: 0.2em;color: black;border-radius: 0.25em;background-color: #f0f8ff;}#sk-container-id-3 input.sk-toggleable__control:checked~div.sk-toggleable__content {max-height: 200px;max-width: 100%;overflow: auto;}#sk-container-id-3 input.sk-toggleable__control:checked~label.sk-toggleable__label-arrow:before {content: \"▾\";}#sk-container-id-3 div.sk-estimator input.sk-toggleable__control:checked~label.sk-toggleable__label {background-color: #d4ebff;}#sk-container-id-3 div.sk-label input.sk-toggleable__control:checked~label.sk-toggleable__label {background-color: #d4ebff;}#sk-container-id-3 input.sk-hidden--visually {border: 0;clip: rect(1px 1px 1px 1px);clip: rect(1px, 1px, 1px, 1px);height: 1px;margin: -1px;overflow: hidden;padding: 0;position: absolute;width: 1px;}#sk-container-id-3 div.sk-estimator {font-family: monospace;background-color: #f0f8ff;border: 1px dotted black;border-radius: 0.25em;box-sizing: border-box;margin-bottom: 0.5em;}#sk-container-id-3 div.sk-estimator:hover {background-color: #d4ebff;}#sk-container-id-3 div.sk-parallel-item::after {content: \"\";width: 100%;border-bottom: 1px solid gray;flex-grow: 1;}#sk-container-id-3 div.sk-label:hover label.sk-toggleable__label {background-color: #d4ebff;}#sk-container-id-3 div.sk-serial::before {content: \"\";position: absolute;border-left: 1px solid gray;box-sizing: border-box;top: 0;bottom: 0;left: 50%;z-index: 0;}#sk-container-id-3 div.sk-serial {display: flex;flex-direction: column;align-items: center;background-color: white;padding-right: 0.2em;padding-left: 0.2em;position: relative;}#sk-container-id-3 div.sk-item {position: relative;z-index: 1;}#sk-container-id-3 div.sk-parallel {display: flex;align-items: stretch;justify-content: center;background-color: white;position: relative;}#sk-container-id-3 div.sk-item::before, #sk-container-id-3 div.sk-parallel-item::before {content: \"\";position: absolute;border-left: 1px solid gray;box-sizing: border-box;top: 0;bottom: 0;left: 50%;z-index: -1;}#sk-container-id-3 div.sk-parallel-item {display: flex;flex-direction: column;z-index: 1;position: relative;background-color: white;}#sk-container-id-3 div.sk-parallel-item:first-child::after {align-self: flex-end;width: 50%;}#sk-container-id-3 div.sk-parallel-item:last-child::after {align-self: flex-start;width: 50%;}#sk-container-id-3 div.sk-parallel-item:only-child::after {width: 0;}#sk-container-id-3 div.sk-dashed-wrapped {border: 1px dashed gray;margin: 0 0.4em 0.5em 0.4em;box-sizing: border-box;padding-bottom: 0.4em;background-color: white;}#sk-container-id-3 div.sk-label label {font-family: monospace;font-weight: bold;display: inline-block;line-height: 1.2em;}#sk-container-id-3 div.sk-label-container {text-align: center;}#sk-container-id-3 div.sk-container {/* jupyter's `normalize.less` sets `[hidden] { display: none; }` but bootstrap.min.css set `[hidden] { display: none !important; }` so we also need the `!important` here to be able to override the default hidden behavior on the sphinx rendered scikit-learn.org. See: https://github.com/scikit-learn/scikit-learn/issues/21755 */display: inline-block !important;position: relative;}#sk-container-id-3 div.sk-text-repr-fallback {display: none;}</style><div id=\"sk-container-id-3\" class=\"sk-top-container\"><div class=\"sk-text-repr-fallback\"><pre>TfidfVectorizer(ngram_range=(2, 3))</pre><b>In a Jupyter environment, please rerun this cell to show the HTML representation or trust the notebook. <br />On GitHub, the HTML representation is unable to render, please try loading this page with nbviewer.org.</b></div><div class=\"sk-container\" hidden><div class=\"sk-item\"><div class=\"sk-estimator sk-toggleable\"><input class=\"sk-toggleable__control sk-hidden--visually\" id=\"sk-estimator-id-3\" type=\"checkbox\" checked><label for=\"sk-estimator-id-3\" class=\"sk-toggleable__label sk-toggleable__label-arrow\">TfidfVectorizer</label><div class=\"sk-toggleable__content\"><pre>TfidfVectorizer(ngram_range=(2, 3))</pre></div></div></div></div></div>"
      ],
      "text/plain": [
       "TfidfVectorizer(ngram_range=(2, 3))"
      ]
     },
     "execution_count": 54,
     "metadata": {},
     "output_type": "execute_result"
    }
   ],
   "source": [
    "tf_idf_ngram_vectorizer = TfidfVectorizer(ngram_range=(2,3))\n",
    "tf_idf_ngram_vectorizer.fit(X_train)"
   ]
  },
  {
   "cell_type": "code",
   "execution_count": 55,
   "id": "b4d3615f-33d2-4efc-a686-ae258cb9d914",
   "metadata": {
    "tags": []
   },
   "outputs": [],
   "source": [
    "x_train_tf_idf_ngram = tf_idf_ngram_vectorizer.transform(X_train)\n",
    "x_test_tf_idf_ngram  =  tf_idf_ngram_vectorizer.transform(X_test)"
   ]
  },
  {
   "cell_type": "code",
   "execution_count": 56,
   "id": "fc672e0c-81bb-4015-9b04-e2f67574b032",
   "metadata": {
    "tags": []
   },
   "outputs": [
    {
     "data": {
      "text/plain": [
       "array(['aam admi', 'aam admi party', 'aardvark four',\n",
       "       'aardvark four meerkat', 'aardvark likely'], dtype=object)"
      ]
     },
     "execution_count": 56,
     "metadata": {},
     "output_type": "execute_result"
    }
   ],
   "source": [
    "tf_idf_ngram_vectorizer.get_feature_names_out()[0:5]"
   ]
  },
  {
   "cell_type": "markdown",
   "id": "ba15f146-f7be-4d70-9305-dba229d833fc",
   "metadata": {
    "tags": []
   },
   "source": [
    "#### characters level"
   ]
  },
  {
   "cell_type": "code",
   "execution_count": 57,
   "id": "0c030b5e-5b06-41af-9b35-ce72f8bc4812",
   "metadata": {
    "tags": []
   },
   "outputs": [
    {
     "data": {
      "text/html": [
       "<style>#sk-container-id-4 {color: black;}#sk-container-id-4 pre{padding: 0;}#sk-container-id-4 div.sk-toggleable {background-color: white;}#sk-container-id-4 label.sk-toggleable__label {cursor: pointer;display: block;width: 100%;margin-bottom: 0;padding: 0.3em;box-sizing: border-box;text-align: center;}#sk-container-id-4 label.sk-toggleable__label-arrow:before {content: \"▸\";float: left;margin-right: 0.25em;color: #696969;}#sk-container-id-4 label.sk-toggleable__label-arrow:hover:before {color: black;}#sk-container-id-4 div.sk-estimator:hover label.sk-toggleable__label-arrow:before {color: black;}#sk-container-id-4 div.sk-toggleable__content {max-height: 0;max-width: 0;overflow: hidden;text-align: left;background-color: #f0f8ff;}#sk-container-id-4 div.sk-toggleable__content pre {margin: 0.2em;color: black;border-radius: 0.25em;background-color: #f0f8ff;}#sk-container-id-4 input.sk-toggleable__control:checked~div.sk-toggleable__content {max-height: 200px;max-width: 100%;overflow: auto;}#sk-container-id-4 input.sk-toggleable__control:checked~label.sk-toggleable__label-arrow:before {content: \"▾\";}#sk-container-id-4 div.sk-estimator input.sk-toggleable__control:checked~label.sk-toggleable__label {background-color: #d4ebff;}#sk-container-id-4 div.sk-label input.sk-toggleable__control:checked~label.sk-toggleable__label {background-color: #d4ebff;}#sk-container-id-4 input.sk-hidden--visually {border: 0;clip: rect(1px 1px 1px 1px);clip: rect(1px, 1px, 1px, 1px);height: 1px;margin: -1px;overflow: hidden;padding: 0;position: absolute;width: 1px;}#sk-container-id-4 div.sk-estimator {font-family: monospace;background-color: #f0f8ff;border: 1px dotted black;border-radius: 0.25em;box-sizing: border-box;margin-bottom: 0.5em;}#sk-container-id-4 div.sk-estimator:hover {background-color: #d4ebff;}#sk-container-id-4 div.sk-parallel-item::after {content: \"\";width: 100%;border-bottom: 1px solid gray;flex-grow: 1;}#sk-container-id-4 div.sk-label:hover label.sk-toggleable__label {background-color: #d4ebff;}#sk-container-id-4 div.sk-serial::before {content: \"\";position: absolute;border-left: 1px solid gray;box-sizing: border-box;top: 0;bottom: 0;left: 50%;z-index: 0;}#sk-container-id-4 div.sk-serial {display: flex;flex-direction: column;align-items: center;background-color: white;padding-right: 0.2em;padding-left: 0.2em;position: relative;}#sk-container-id-4 div.sk-item {position: relative;z-index: 1;}#sk-container-id-4 div.sk-parallel {display: flex;align-items: stretch;justify-content: center;background-color: white;position: relative;}#sk-container-id-4 div.sk-item::before, #sk-container-id-4 div.sk-parallel-item::before {content: \"\";position: absolute;border-left: 1px solid gray;box-sizing: border-box;top: 0;bottom: 0;left: 50%;z-index: -1;}#sk-container-id-4 div.sk-parallel-item {display: flex;flex-direction: column;z-index: 1;position: relative;background-color: white;}#sk-container-id-4 div.sk-parallel-item:first-child::after {align-self: flex-end;width: 50%;}#sk-container-id-4 div.sk-parallel-item:last-child::after {align-self: flex-start;width: 50%;}#sk-container-id-4 div.sk-parallel-item:only-child::after {width: 0;}#sk-container-id-4 div.sk-dashed-wrapped {border: 1px dashed gray;margin: 0 0.4em 0.5em 0.4em;box-sizing: border-box;padding-bottom: 0.4em;background-color: white;}#sk-container-id-4 div.sk-label label {font-family: monospace;font-weight: bold;display: inline-block;line-height: 1.2em;}#sk-container-id-4 div.sk-label-container {text-align: center;}#sk-container-id-4 div.sk-container {/* jupyter's `normalize.less` sets `[hidden] { display: none; }` but bootstrap.min.css set `[hidden] { display: none !important; }` so we also need the `!important` here to be able to override the default hidden behavior on the sphinx rendered scikit-learn.org. See: https://github.com/scikit-learn/scikit-learn/issues/21755 */display: inline-block !important;position: relative;}#sk-container-id-4 div.sk-text-repr-fallback {display: none;}</style><div id=\"sk-container-id-4\" class=\"sk-top-container\"><div class=\"sk-text-repr-fallback\"><pre>TfidfVectorizer(analyzer=&#x27;char&#x27;, ngram_range=(2, 3))</pre><b>In a Jupyter environment, please rerun this cell to show the HTML representation or trust the notebook. <br />On GitHub, the HTML representation is unable to render, please try loading this page with nbviewer.org.</b></div><div class=\"sk-container\" hidden><div class=\"sk-item\"><div class=\"sk-estimator sk-toggleable\"><input class=\"sk-toggleable__control sk-hidden--visually\" id=\"sk-estimator-id-4\" type=\"checkbox\" checked><label for=\"sk-estimator-id-4\" class=\"sk-toggleable__label sk-toggleable__label-arrow\">TfidfVectorizer</label><div class=\"sk-toggleable__content\"><pre>TfidfVectorizer(analyzer=&#x27;char&#x27;, ngram_range=(2, 3))</pre></div></div></div></div></div>"
      ],
      "text/plain": [
       "TfidfVectorizer(analyzer='char', ngram_range=(2, 3))"
      ]
     },
     "execution_count": 57,
     "metadata": {},
     "output_type": "execute_result"
    }
   ],
   "source": [
    "thf_idf_chars_vectorizer = TfidfVectorizer(analyzer = \"char\", ngram_range = (2,3))\n",
    "thf_idf_chars_vectorizer.fit(X_train)"
   ]
  },
  {
   "cell_type": "code",
   "execution_count": 58,
   "id": "f412124c-6993-49fb-b049-a86b95f4ef03",
   "metadata": {
    "tags": []
   },
   "outputs": [],
   "source": [
    "x_train_tf_idf_chars = thf_idf_chars_vectorizer.transform(X_train)\n",
    "x_test_tf_idf_chars = thf_idf_chars_vectorizer.transform(X_test)"
   ]
  },
  {
   "cell_type": "markdown",
   "id": "2fbb757c-af87-4a91-aec2-3c4e95bf18df",
   "metadata": {},
   "source": [
    "# ML Models"
   ]
  },
  {
   "cell_type": "markdown",
   "id": "061bc060-8bf2-4d76-b529-6ec6609d575b",
   "metadata": {
    "tags": []
   },
   "source": [
    "### Logistic Regresyon"
   ]
  },
  {
   "cell_type": "code",
   "execution_count": 59,
   "id": "324f0d7b-e561-4f41-b364-0f8498b21d37",
   "metadata": {
    "tags": []
   },
   "outputs": [
    {
     "name": "stdout",
     "output_type": "stream",
     "text": [
      "Count Vectors-Accuracy:  0.7251363891431002\n"
     ]
    }
   ],
   "source": [
    "loj = linear_model.LogisticRegression(max_iter = 1600)\n",
    "loj_model = loj.fit(x_train_count, Y_train)\n",
    "accuracy = model_selection.cross_val_score(loj_model, x_test_count, Y_test, cv = 10).mean()\n",
    "\n",
    "print(\"Count Vectors-Accuracy: \", accuracy)\n",
    "\n",
    "\n",
    "# from sklearn import linear_model, model_selection\n",
    "# from sklearn.preprocessing import StandardScaler, MinMaxScaler, MaxAbsScaler\n",
    "# from sklearn.pipeline import make_pipeline\n",
    "\n",
    "# # Verileri ölçeklendir\n",
    "# scaler = MaxAbsScaler()\n",
    "\n",
    "# # Logistic Regression modelini oluştur\n",
    "# loj = linear_model.LogisticRegression(max_iter=200)\n",
    "\n",
    "# # Ölçekleme ve model eğitimi için pipeline kullan\n",
    "# pipeline = make_pipeline(scaler, loj)\n",
    "\n",
    "# # Modeli eğit\n",
    "# pipeline.fit(x_train_count, Y_train)\n",
    "\n",
    "# # Cross-validation\n",
    "# cross_val_accuracy = model_selection.cross_val_score(pipeline, x_train_count, Y_train, cv=10).mean()\n",
    "\n",
    "# # Sonuçları yazdır\n",
    "# print(\"Count Vectors Cross-Validation Accuracy: \", cross_val_accuracy)\n"
   ]
  },
  {
   "cell_type": "code",
   "execution_count": 86,
   "id": "05604b02-f229-40f1-9f4b-f07f33740058",
   "metadata": {
    "tags": []
   },
   "outputs": [
    {
     "name": "stdout",
     "output_type": "stream",
     "text": [
      "Word Level TF-IDF-Accuracy:  0.774709238608503\n"
     ]
    }
   ],
   "source": [
    "loj = linear_model.LogisticRegression(max_iter = 1500)\n",
    "loj_model = loj.fit(x_train_tf_idf_word, Y_train)\n",
    "accuracy = model_selection.cross_val_score(loj_model, x_test_tf_idf_word, Y_test, cv = 10).mean()\n",
    "\n",
    "print(\"Word Level TF-IDF-Accuracy: \", accuracy)"
   ]
  },
  {
   "cell_type": "code",
   "execution_count": 61,
   "id": "58607f6a-da8b-4541-a901-6dcd130da43c",
   "metadata": {
    "tags": []
   },
   "outputs": [
    {
     "name": "stdout",
     "output_type": "stream",
     "text": [
      "N-Gram TF-IDF-Accuracy:  0.7528678062871196\n"
     ]
    }
   ],
   "source": [
    "loj = linear_model.LogisticRegression(max_iter = 1500)\n",
    "loj_model = loj.fit(x_train_tf_idf_ngram, Y_train)\n",
    "accuracy = model_selection.cross_val_score(loj_model, x_test_tf_idf_ngram, Y_test, cv = 10).mean()\n",
    "\n",
    "print(\"N-Gram TF-IDF-Accuracy: \", accuracy)"
   ]
  },
  {
   "cell_type": "code",
   "execution_count": 62,
   "id": "83a3b42c-fba9-41b7-bf9b-142e53b747e9",
   "metadata": {
    "tags": []
   },
   "outputs": [
    {
     "name": "stdout",
     "output_type": "stream",
     "text": [
      "Char Level TF-IDF-Accuracy:  0.7647707766065222\n"
     ]
    }
   ],
   "source": [
    "loj = linear_model.LogisticRegression(max_iter = 500)\n",
    "loj_model = loj.fit(x_train_tf_idf_chars, Y_train)\n",
    "accuracy = model_selection.cross_val_score(loj_model, x_test_tf_idf_chars, Y_test, cv = 10).mean()\n",
    "\n",
    "print(\"Char Level TF-IDF-Accuracy: \", accuracy)"
   ]
  },
  {
   "cell_type": "markdown",
   "id": "31879072-1f0a-4ac8-8eef-b12793bebe84",
   "metadata": {
    "tags": []
   },
   "source": [
    "### Naive Bayes"
   ]
  },
  {
   "cell_type": "code",
   "execution_count": 63,
   "id": "dbad38cd-cf3d-4dd0-b08c-1ccdb187f6d2",
   "metadata": {
    "tags": []
   },
   "outputs": [],
   "source": [
    "nb = naive_bayes.MultinomialNB()\n",
    "nb_model = nb.fit(x_train_count,Y_train)\n",
    "accuracy = model_selection.cross_val_score(nb_model, \n",
    "                                           x_test_count, \n",
    "                                           Y_test, \n",
    "                                           cv = 10).mean()\n",
    "\n",
    "print(\"Count Vectors Accuracy:\", accuracy)"
   ]
  },
  {
   "cell_type": "code",
   "execution_count": 64,
   "id": "160278af-9c1e-4cff-9a17-b37d1f29e15c",
   "metadata": {
    "tags": []
   },
   "outputs": [],
   "source": [
    "nb_model = nb.fit(x_train_tf_idf_word,Y_train)\n",
    "accuracy = model_selection.cross_val_score(nb_model, \n",
    "                                           x_test_tf_idf_word, \n",
    "                                           Y_test, \n",
    "                                           cv = 10).mean()\n",
    "\n",
    "print(\"Word-Level TF-IDF Accuracy:\", accuracy)"
   ]
  },
  {
   "cell_type": "code",
   "execution_count": 65,
   "id": "c7aedac6-26eb-4a6a-91dd-91d40d8797a5",
   "metadata": {
    "tags": []
   },
   "outputs": [],
   "source": [
    "nb_model = nb.fit(x_train_tf_idf_ngram, Y_train)\n",
    "accuracy = model_selection.cross_val_score(nb_model, \n",
    "                                           x_test_tf_idf_ngram, \n",
    "                                           Y_test, \n",
    "                                           cv = 10).mean()\n",
    "\n",
    "print(\"N-GRAM TF-IDF Accuracy:\", accuracy)"
   ]
  },
  {
   "cell_type": "code",
   "execution_count": 66,
   "id": "79b29598-8fb3-4abd-aaf5-cbedcf861f75",
   "metadata": {
    "tags": []
   },
   "outputs": [],
   "source": [
    "nb_model = nb.fit(x_train_tf_idf_chars,Y_train)\n",
    "accuracy = model_selection.cross_val_score(nb_model, \n",
    "                                           x_test_tf_idf_chars, \n",
    "                                           Y_test, \n",
    "                                           cv = 10).mean()\n",
    "\n",
    "print(\"CHARLEVEL TF-IDF Accuracy:\", accuracy)"
   ]
  },
  {
   "cell_type": "markdown",
   "id": "fb8e401f-c972-426d-859b-93cc5950b2a9",
   "metadata": {
    "tags": []
   },
   "source": [
    "### Random Forests"
   ]
  },
  {
   "cell_type": "code",
   "execution_count": 67,
   "id": "58d9e1ec-f021-4676-b4ab-fe7cba71add2",
   "metadata": {
    "tags": []
   },
   "outputs": [],
   "source": [
    "rf = ensemble.RandomForestClassifier()\n",
    "rf_model = rf.fit(x_train_count, Y_train)\n",
    "accuracy = model_selection.cross_val_score(rf_model, \n",
    "                                           x_test_count, \n",
    "                                           Y_test, \n",
    "                                           cv = 10).mean()\n",
    "\n",
    "print(\"Count Vectors Accuracy:\", accuracy)"
   ]
  },
  {
   "cell_type": "code",
   "execution_count": 68,
   "id": "012f3f5d-bb51-4383-8178-54da90d5cfce",
   "metadata": {
    "tags": []
   },
   "outputs": [],
   "source": [
    "rf_model = rf.fit(x_train_tf_idf_word, Y_train)\n",
    "accuracy = model_selection.cross_val_score(rf_model, x_test_count, Y_test, cv = 10).mean()\n",
    "print('Word Level TF-IDF-Accuracy: ', accuracy)"
   ]
  },
  {
   "cell_type": "code",
   "execution_count": 69,
   "id": "bb9a65b4-3bfd-4bfc-869f-34578fc9144c",
   "metadata": {
    "tags": []
   },
   "outputs": [],
   "source": [
    "rf_model = rf.fit(x_train_tf_idf_ngram, Y_train)\n",
    "accuracy = model_selection.cross_val_score(rf_model, x_test_tf_idf_ngram, Y_test, cv = 10).mean()\n",
    "print('N-Gram TF-IDF-Accuracy: ', accuracy)"
   ]
  },
  {
   "cell_type": "code",
   "execution_count": 70,
   "id": "a5a4821b-0920-4d95-ac72-bdb7804cca10",
   "metadata": {
    "tags": []
   },
   "outputs": [],
   "source": [
    "rf_model = rf.fit(x_train_tf_idf_chars, Y_train)\n",
    "accuracy = model_selection.cross_val_score(rf_model, x_test_tf_idf_chars, Y_test, cv = 10).mean()\n",
    "print('Character TF-IDF-Accuracy: ', accuracy)"
   ]
  },
  {
   "cell_type": "markdown",
   "id": "5dbd8f84-406d-4e2d-98ea-bb52d1bec526",
   "metadata": {
    "tags": []
   },
   "source": [
    "### XGBoost"
   ]
  },
  {
   "cell_type": "code",
   "execution_count": 71,
   "id": "090dd541-a20d-4c21-bd30-a109353addda",
   "metadata": {
    "tags": []
   },
   "outputs": [],
   "source": [
    "xgb = xgboost.XGBClassifier()\n",
    "xgb_model = xgb.fit(x_train_count, Y_train)\n",
    "accuracy = model_selection.cross_val_score(xgb_model, \n",
    "                                           x_test_count, \n",
    "                                           Y_test, \n",
    "                                           cv = 10).mean()\n",
    "\n",
    "print(\"Count Vectors Accuracy:\", accuracy)"
   ]
  },
  {
   "cell_type": "code",
   "execution_count": 72,
   "id": "06bb46e0-b189-4515-b843-8b1c5ec58252",
   "metadata": {
    "tags": []
   },
   "outputs": [],
   "source": [
    "xgb_model = xgb.fit(x_train_tf_idf_word, Y_train)\n",
    "accuracy = model_selection.cross_val_score(xgb_model, \n",
    "                                           x_test_tf_idf_word, \n",
    "                                           Y_test, \n",
    "                                           cv = 10).mean()\n",
    "\n",
    "print(\"Word-Level TF-IDF Accuracy:\", accuracy)"
   ]
  },
  {
   "cell_type": "code",
   "execution_count": 73,
   "id": "5d17d42a-eb2e-4c2d-ae55-7de7ebf8ceac",
   "metadata": {
    "tags": []
   },
   "outputs": [],
   "source": [
    "xgb_model = xgb.fit(x_train_tf_idf_ngram, Y_train)\n",
    "accuracy = model_selection.cross_val_score(xgb_model, \n",
    "                                           x_test_tf_idf_ngram, \n",
    "                                           Y_test, \n",
    "                                           cv = 10).mean()\n",
    "\n",
    "print(\"N-Gram TF-IDF Accuracy:\", accuracy)"
   ]
  },
  {
   "cell_type": "code",
   "execution_count": 74,
   "id": "129c5dc2-0bba-4824-97ce-3cf4668f405c",
   "metadata": {
    "tags": []
   },
   "outputs": [],
   "source": [
    "xgb_model = xgb.fit(x_train_tf_idf_chars, Y_train)\n",
    "accuracy = model_selection.cross_val_score(xgb_model, \n",
    "                                           x_test_tf_idf_chars, \n",
    "                                           Y_test, \n",
    "                                           cv = 10).mean()\n",
    "\n",
    "print(\"Character TF-IDF Accuracy:\", accuracy)"
   ]
  },
  {
   "cell_type": "markdown",
   "id": "b22502cb-64ae-42ec-a840-049e0333821e",
   "metadata": {
    "tags": []
   },
   "source": [
    "### LightGBM"
   ]
  },
  {
   "cell_type": "code",
   "execution_count": 75,
   "id": "6aeeef17-94b6-4b8c-84c8-1faab3fd68a7",
   "metadata": {
    "tags": []
   },
   "outputs": [],
   "source": [
    "import numpy as np"
   ]
  },
  {
   "cell_type": "code",
   "execution_count": 76,
   "id": "4168a088-5744-4d22-8ea2-5d639ae541e1",
   "metadata": {
    "tags": []
   },
   "outputs": [],
   "source": [
    "Y_test_light = Y_test.astype(np.float32)\n",
    "Y_train_light = Y_train.astype(np.float32) \n",
    "\n",
    "x_train_count_light = x_train_count.astype(np.float32)\n",
    "# Eğer Y_train da uygun türde değilse bunu da kontrol edin\n",
    "x_test_count_light = x_test_count.astype(np.float32)\n",
    "\n",
    "\n",
    "x_test_tf_idf_word_light = x_test_tf_idf_word.astype(np.float32)\n",
    "x_train_tf_idf_word_light = x_train_tf_idf_word.astype(np.float32)\n",
    "\n",
    "x_test_tf_idf_ngram_light = x_test_tf_idf_ngram.astype(np.float32)\n",
    "x_train_tf_idf_ngram_light = x_train_tf_idf_ngram.astype(np.float32)\n",
    "\n",
    "x_test_tf_idf_char_light = x_test_tf_idf_chars.astype(np.float32)\n",
    "x_train_tf_idf_char_light = x_train_tf_idf_chars.astype(np.float32)\n"
   ]
  },
  {
   "cell_type": "code",
   "execution_count": 77,
   "id": "754641a1-5d97-46f5-8bb4-9afd12c7f337",
   "metadata": {
    "tags": []
   },
   "outputs": [],
   "source": [
    "lgbm = lgb.LGBMClassifier()\n",
    "lgb_model = lgbm.fit(x_train_count_light,Y_train)\n",
    "accuarcy = model_selection.cross_val_score(lgb_model, x_test_count_light, Y_test, cv=10).mean()\n",
    "print(\"Count Vector Accuracy\",  accuarcy)"
   ]
  },
  {
   "cell_type": "code",
   "execution_count": 78,
   "id": "9fc55bd0-808a-4544-8ad4-50350c5b8dd4",
   "metadata": {
    "tags": []
   },
   "outputs": [],
   "source": [
    "lgb_model = lgbm.fit(x_train_tf_idf_word_light, Y_train_light)\n",
    "accuarcy = model_selection.cross_val_score(lgb_model, x_test_tf_idf_word_light, Y_test_light, cv=10).mean()\n",
    "print(\"TF IDF Word Accuracy\",  accuarcy)"
   ]
  },
  {
   "cell_type": "code",
   "execution_count": 79,
   "id": "f1cf3fbc-914f-4087-bcf3-6065437fcae4",
   "metadata": {
    "tags": []
   },
   "outputs": [],
   "source": [
    "lgb_model = lgbm.fit(x_train_tf_idf_ngram_light, Y_train_light)\n",
    "accuarcy = model_selection.cross_val_score(lgb_model, x_test_tf_idf_ngram_light, Y_test_light, cv=10).mean()\n",
    "print(\"TF IDF - Ngram Accuracy\",  accuarcy)"
   ]
  },
  {
   "cell_type": "code",
   "execution_count": 80,
   "id": "f84d4f70-3567-454c-b53b-090f9bb6559b",
   "metadata": {
    "tags": []
   },
   "outputs": [],
   "source": [
    "lgb_model = lgbm.fit(x_train_tf_idf_char_light, Y_train_light)\n",
    "accuarcy = model_selection.cross_val_score(lgb_model, x_test_tf_idf_char_light, Y_test_light, cv=10).mean()\n",
    "print(\"TF IDF - Character Accuracy\",  accuarcy)"
   ]
  },
  {
   "cell_type": "markdown",
   "id": "e442c0e4-d3a8-4b41-8bb0-4e5241ff2d35",
   "metadata": {
    "tags": []
   },
   "source": [
    "# Prediction"
   ]
  },
  {
   "cell_type": "code",
   "execution_count": 81,
   "id": "6937f48c-86b9-45d2-bcd4-565bb96599c7",
   "metadata": {
    "tags": []
   },
   "outputs": [],
   "source": [
    "#### Logistic Regresyon TF-IDF Word Level en yuksek orana sahip cikti"
   ]
  },
  {
   "cell_type": "code",
   "execution_count": 87,
   "id": "0c719ae6-44d3-4d88-a0d8-ec6b9107fa5e",
   "metadata": {
    "tags": []
   },
   "outputs": [],
   "source": [
    "new_text = ['Kamala Harris has released her medical records which concluded she is in excellent health and fit for the presidency Following the disclosure the Democratic Partys nominee to be the next US president accused Donald Trump of a lack of transparency over not releasing his own health records']"
   ]
  },
  {
   "cell_type": "code",
   "execution_count": 88,
   "id": "f601cc5d-c496-4c8e-94b9-42f7dd1a2a7c",
   "metadata": {
    "tags": []
   },
   "outputs": [
    {
     "data": {
      "text/plain": [
       "array([0], dtype=int64)"
      ]
     },
     "execution_count": 88,
     "metadata": {},
     "output_type": "execute_result"
    }
   ],
   "source": [
    "text_transform = tf_idf_word_vectorizer.transform(new_text)\n",
    "loj_model.predict(text_transform)"
   ]
  },
  {
   "cell_type": "code",
   "execution_count": 89,
   "id": "ce5eb439-7e14-4788-b8c1-e09e784310fe",
   "metadata": {
    "tags": []
   },
   "outputs": [],
   "source": [
    "new_text2 = ['The Claim: CDC reported that the majority of those infected with COVID-19 ‘always’ wore masks.']"
   ]
  },
  {
   "cell_type": "code",
   "execution_count": 90,
   "id": "51c909fb-1e6e-4958-aad9-7d5764691adb",
   "metadata": {
    "tags": []
   },
   "outputs": [
    {
     "data": {
      "text/plain": [
       "array([1], dtype=int64)"
      ]
     },
     "execution_count": 90,
     "metadata": {},
     "output_type": "execute_result"
    }
   ],
   "source": [
    "text_predict2 = tf_idf_word_vectorizer.transform(new_text2)\n",
    "loj_model.predict(text_predict2)"
   ]
  },
  {
   "cell_type": "code",
   "execution_count": 91,
   "id": "c218d7ae-3223-4792-bad0-1df2d684773a",
   "metadata": {
    "tags": []
   },
   "outputs": [],
   "source": [
    "f1 = [\"In a groundbreaking new study published by the Institute of Chocolate Research, scientists claim they have discovered that chocolate can cure all known diseases. The researchers, who conducted a year-long experiment, say that consuming chocolate daily can eliminate conditions ranging from the common cold to chronic illnesses. This revolutionary finding has sparked debates among health experts, some of whom are calling for chocolate to be classified as a superfood.\"]\n",
    "f2 = [\"Witnesses in New York City were left stunned after spotting what appeared to be a giant squid swimming in the waters of Central Park's pond. Eyewitnesses claim the creature was nearly 30 feet long and had vibrant, colorful tentacles. As the news spread, marine biologists rushed to the scene, speculating that this might be an unprecedented case of oceanic wildlife migrating inland. Local authorities have urged residents to remain calm while they investigate the mysterious appearance.\"]\n",
    "f3 = [\"A bizarre incident unfolded in downtown Chicago as authorities apprehended a group of individuals who claimed to be time travelers. The group was reportedly trying to sell rare artifacts from ancient Rome at a local flea market. When questioned, they insisted they had come from the year 3023 to preserve historical relics. Officials are now looking into the authenticity of their claims and whether time travel might be possible.\"]\n",
    "f4 = [\"NASA officials have announced an ambitious plan to build the first-ever water park on the Moon, following the discovery of large ice deposits in its polar regions. The water park, designed for astronauts and future tourists, will feature thrilling slides and a lazy river. Space enthusiasts are already buying tickets for the first lunar excursion, hoping to splash around in the low gravity environment.\"]\n",
    "f5 = [\"In an astounding revelation, a team of scientists at a leading university claims to have developed an invisible cloak using cutting-edge technology. The cloak, made from a unique material that bends light, can render objects completely invisible. This invention could revolutionize privacy and security, but experts warn of its potential misuse. The team is seeking government funding to further develop the technology for practical applications.\"]\n",
    "f6 = [\"In a promotional stunt that has left the world amazed, a pizza chain has successfully delivered the world's largest pizza to a research station in Antarctica. Measuring over 100 feet in diameter, the pizza was made with specially sourced ingredients to withstand extreme temperatures. Scientists stationed at the base celebrated the delivery, claiming it would be a great morale booster during the long, harsh winter months.\"]\n",
    "f7 = [\"A controversial study conducted by a fringe research group suggests that domestic cats are not merely pets but secret agents sent by extraterrestrial beings to monitor human activity. According to the report, cats exhibit behaviors that align with espionage techniques, such as stalking and observing. While mainstream scientists have dismissed the study, it has gained a following among conspiracy theorists who believe in the possibility of feline extraterrestrial connections.\"]\n",
    "f8 = [\"Adventurous hikers claim to have spotted a herd of unicorns in the remote regions of the Himalayas. According to reports, the majestic creatures were seen grazing near a mountain peak, captivating onlookers. The news has drawn the attention of both scientists and enthusiasts eager to explore the legend of unicorns. Researchers are now planning expeditions to investigate the sightings and capture evidence of these mythical beings.\"]\n",
    "f9 = [\"In a surprising legislative move, a new law has been passed in a small town requiring all residents to own at least one pet rock. City officials argue that this initiative is aimed at promoting responsibility and connection with nature. Citizens must register their pet rocks with the local government and provide monthly updates on their well-being. Critics of the law have raised concerns about the absurdity of such a requirement.\"]\n",
    "f10 = [\"In a stunning announcement, scientists have claimed to have achieved a breakthrough in teleportation technology. During a recent experiment, a peanut was successfully teleported across a laboratory space, marking a significant milestone in the field of physics. While researchers admit that human teleportation is still far from realization, they believe this experiment paves the way for future advancements in transportation and communications.\"]"
   ]
  },
  {
   "cell_type": "code",
   "execution_count": 92,
   "id": "2ac144e4-d6be-434f-93d8-394073edcbdf",
   "metadata": {
    "tags": []
   },
   "outputs": [],
   "source": [
    "all_f_news = f1 +f2 +f3 +f4 +f5 +f6 +f7 +f8 +f9 +f10"
   ]
  },
  {
   "cell_type": "code",
   "execution_count": 93,
   "id": "68d2c8dd-1348-4270-92d1-089c1922bfe2",
   "metadata": {
    "tags": []
   },
   "outputs": [
    {
     "data": {
      "text/plain": [
       "array([1, 1, 1, 1, 1, 1, 1, 1, 1, 1], dtype=int64)"
      ]
     },
     "execution_count": 93,
     "metadata": {},
     "output_type": "execute_result"
    }
   ],
   "source": [
    "text_predict_all_f = tf_idf_word_vectorizer.transform(all_f_news)\n",
    "loj_model.predict(text_predict_all_f)"
   ]
  },
  {
   "cell_type": "code",
   "execution_count": 94,
   "id": "fb30fe1a-7d00-4dc3-a83e-78aa06d975a1",
   "metadata": {
    "tags": []
   },
   "outputs": [],
   "source": [
    "r1 = [\"NASA has successfully completed the Artemis I mission, marking a significant milestone in its efforts to return humans to the Moon by 2024. The uncrewed Orion spacecraft launched from the Kennedy Space Center in Florida and traveled approximately 1.4 million miles over a period of 25 days. During its journey, Orion orbited the Moon before returning to Earth, splashing down in the Pacific Ocean. The mission aimed to test critical systems and gather data to ensure the safety of future crewed missions. NASA officials hailed the success of Artemis I as a major step forward for the Artemis program, which seeks to establish a sustainable human presence on the Moon and eventually send astronauts to Mars. The next mission, Artemis II, is planned to carry astronauts around the Moon, setting the stage for a return to lunar exploration.\"]\n",
    "r2 = [\"The World Health Organization (WHO) has declared an end to the COVID-19 global health emergency, signaling a significant turning point in the fight against the pandemic. WHO officials noted that vaccination efforts, increased immunity in populations, and effective treatments have contributed to the decline in severe cases and hospitalizations. The organization emphasizes the need for continued vigilance and preparedness for potential future outbreaks, while also encouraging countries to maintain robust healthcare systems.\"]\n",
    "r3 = [\"In an exciting development for renewable energy, a recent report reveals that solar power capacity has increased significantly worldwide. According to the International Energy Agency, global solar power generation grew by over 25% last year, driven by technological advancements and declining costs. This surge in solar energy adoption is seen as a crucial step toward achieving global climate goals and reducing dependency on fossil fuels.\"]\n",
    "r4 = [\"The United Nations has announced a new initiative to address global food insecurity, aiming to support millions affected by hunger and malnutrition. The initiative will focus on providing financial assistance, improving agricultural practices, and enhancing supply chains to ensure that vulnerable populations have access to nutritious food. UN officials stress the importance of global cooperation in tackling this pressing issue.\"]\n",
    "r5 = [\"In a historic decision, the U.S. Supreme Court has ruled to uphold the Affordable Care Act, ensuring that millions of Americans retain access to affordable healthcare. The decision comes after a lengthy legal battle and highlights the ongoing debate surrounding healthcare reform in the country. Advocates for the ACA celebrate this ruling as a victory for public health and access to essential medical services.\"]\n",
    "r6 = [\"A groundbreaking study has shown that early childhood education significantly impacts long-term academic success. Researchers found that children who participated in quality preschool programs were more likely to excel in school and have better social skills compared to their peers who did not have access to early education. This study has renewed calls for increased investment in early childhood education programs.\"]\n",
    "r7 = [\"In a recent announcement, the European Union revealed its plans to cut carbon emissions by at least 55% by 2030, as part of its commitment to the Paris Agreement. The plan includes a comprehensive approach to promoting green technologies, improving energy efficiency, and investing in renewable energy sources. EU leaders emphasize the importance of collaboration among member states to achieve these ambitious targets.\"]\n",
    "r8 = [\"The tech industry is abuzz with excitement following the release of a new smartphone that features groundbreaking technology, including advanced artificial intelligence capabilities and improved camera systems. Analysts predict that this device will set new standards for performance and innovation in the market. Consumers eagerly await the launch, which is expected to drive significant sales and boost the company's market share.\"]\n",
    "r9 = [\"A recent survey indicates that public support for climate action is at an all-time high, with a majority of citizens across the globe advocating for stronger policies to combat climate change. The survey highlights increasing awareness of the impacts of climate change and a desire for governments to take decisive action to protect the environment for future generations. This growing sentiment may influence policymakers in upcoming legislative sessions.\"]\n",
    "r10 = [\"Researchers have unveiled a new vaccine that shows promise in preventing certain types of cancer. In early trials, the vaccine demonstrated a strong immune response, suggesting it could provide a significant breakthrough in cancer treatment. Scientists are optimistic about the potential for this vaccine to improve patient outcomes and reduce cancer incidence in the long term. Further studies are planned to assess its efficacy and safety in larger populations.\"]"
   ]
  },
  {
   "cell_type": "code",
   "execution_count": 95,
   "id": "34c6c2ff-7f1e-45ea-83b8-f1453003e6f1",
   "metadata": {
    "tags": []
   },
   "outputs": [],
   "source": [
    "all_r_news = r1 +r2 +r3 +r4 +r5 +r6 +r7 +r8 +r9 +r10"
   ]
  },
  {
   "cell_type": "code",
   "execution_count": 96,
   "id": "a0c3e7d0-6101-4a64-b5c2-17768c9a9b4d",
   "metadata": {
    "tags": []
   },
   "outputs": [
    {
     "data": {
      "text/plain": [
       "array([0, 1, 1, 1, 1, 0, 1, 0, 1, 0], dtype=int64)"
      ]
     },
     "execution_count": 96,
     "metadata": {},
     "output_type": "execute_result"
    }
   ],
   "source": [
    "text_predict_all_r = tf_idf_word_vectorizer.transform(all_r_news)\n",
    "loj_model.predict(text_predict_all_r)"
   ]
  },
  {
   "cell_type": "code",
   "execution_count": 97,
   "id": "5378f07f-73a3-40d3-8af6-4c6eda7e3f94",
   "metadata": {
    "tags": []
   },
   "outputs": [],
   "source": [
    "n_r1 = [\"In the highly anticipated 2020 presidential election, Joe Biden, the Democratic candidate, defeated the incumbent President Donald Trump. The campaign was characterized by an intense focus on critical issues such as healthcare, climate change, and economic recovery, especially in light of the COVID-19 pandemic that had significantly impacted the nation. Biden’s government aims to implement policies that foster unity and promote healing in a divided country. Many believe his approach will redefine the political landscape and restore faith in government institutions.\"]\n",
    "n_r2 = [\"Former President Barack Obama recently delivered a powerful speech about the importance of voter turnout, urging citizens to engage actively in the democratic process. During an event in a swing state, he emphasized that the future of the country hinges on individual participation in elections. Obama highlighted that young voters, in particular, have the power to influence the outcome of the election by making their voices heard. He stressed the significance of every vote and how it can shape the policies of the next government, especially concerning issues like education and climate action.\"]\n",
    "n_r3 = [\"As the 2024 election cycle begins to heat up, potential candidates are gearing up for their campaigns, focusing on vital issues that affect the everyday lives of citizens. Discussions surrounding policies related to education reform, healthcare accessibility, and economic stability have become central themes in early debates. The government is bracing itself to tackle the pressing challenges that have emerged in recent years, including the economic fallout from the pandemic. Political analysts predict that these issues will play a significant role in determining the next president.\"]\n",
    "n_r4 = [\"In a recent address to the nation, President Biden urged Americans to come together as one, emphasizing the importance of collaboration in facing ongoing challenges. He stated that unity is crucial for the country to progress and that every citizen has a vital role in shaping the nation’s future. Biden’s message resonated with many, especially as the country navigates through various social and economic hurdles. The President's call for cooperation comes at a time when political polarization is at an all-time high, with many citizens longing for a return to bipartisanship.\"]\n",
    "n_r5 = [\"The debate surrounding climate change continues to dominate political discussions as the 2024 election approaches. Candidates in the upcoming election are actively presenting their plans to address climate issues and promote sustainable practices. Many believe that the outcome of the election will significantly impact government policies in the coming years, especially as climate scientists warn of increasingly dire consequences if decisive action is not taken. Voters are paying close attention to candidates' environmental platforms, indicating a shift in priorities towards sustainability and responsibility.\"]\n",
    "## f news\n",
    "n_f1 = [\"In a shocking twist, a recent poll suggests that President Trump plans to run for a second term from a mysterious island country known only to a select few. Sources claim that he has been secretly campaigning while on vacation, gaining support from extraterrestrial beings who promise to vote for him in the 2024 election. This unexpected alliance has raised eyebrows, with skeptics questioning the feasibility of such claims. Nevertheless, Trump's supporters have rallied behind this narrative, claiming it proves his unmatched popularity.\"]\n",
    "n_f2 = [\"Reports have emerged that a new candidate for the presidency has been chosen by a secret society known as the 'Government of Shadows.' This candidate, rumored to possess supernatural abilities, is expected to revolutionize the political landscape and reshape the future of the state. Conspiracy theorists are buzzing about this hidden group’s influence on major political decisions and their plans to unveil this candidate during a rare lunar eclipse, marking a new era in American politics.\"]\n",
    "n_f3 = [\"Former President Obama has reportedly joined forces with a coalition of animals to lead a campaign against climate change. This unique alliance is said to include talking squirrels and wise owls, who will share their insights on environmental policies with the people. Environmental activists have praised this unprecedented move, claiming it highlights the urgency of the climate crisis. Critics, however, are questioning the legitimacy of an animal-led initiative and whether it can effectively impact government policies.\"]\n",
    "n_f4 = [\"A bizarre new conspiracy theory claims that the government has been using time travel technology to manipulate past elections. This theory suggests that candidates like Trump and Obama were part of a larger plan orchestrated by a clandestine organization to control the timeline of American politics. Enthusiasts of this theory believe that revelations about time travel will soon emerge, potentially reshaping the political narrative as we know it and challenging the very foundation of democracy.\"]\n",
    "n_f5 = [\"In a recent scandal, it was revealed that a candidate for the upcoming election has been using a magic crystal ball to predict the outcome of political events. This revelation has raised questions about the legitimacy of their campaign and whether they can genuinely represent the interests of the people. Critics have called for transparency and accountability, while the candidate's supporters argue that their unique approach could bring a fresh perspective to political discourse. The controversy continues to unfold as the election draws nearer.\"]"
   ]
  },
  {
   "cell_type": "code",
   "execution_count": 98,
   "id": "ae21e585-4e55-497f-83ba-740a134bbc64",
   "metadata": {
    "tags": []
   },
   "outputs": [],
   "source": [
    "mixed_text = n_r1 + n_r2 + n_r3 + n_r4 + n_r5 + n_f1 + n_f2 + n_f3 + n_f4 + n_f5"
   ]
  },
  {
   "cell_type": "code",
   "execution_count": 99,
   "id": "fb5fb95a-bf34-4bfc-a1ed-1df439adc373",
   "metadata": {
    "tags": []
   },
   "outputs": [
    {
     "data": {
      "text/plain": [
       "array([1, 1, 1, 1, 1, 1, 1, 0, 1, 1], dtype=int64)"
      ]
     },
     "execution_count": 99,
     "metadata": {},
     "output_type": "execute_result"
    }
   ],
   "source": [
    "mixed_text_transform = tf_idf_word_vectorizer.transform(mixed_text)\n",
    "loj_model.predict(mixed_text_transform)"
   ]
  },
  {
   "cell_type": "code",
   "execution_count": 115,
   "id": "a23c5cc1-09ac-4b15-9eb7-97d7b6459a55",
   "metadata": {
    "tags": []
   },
   "outputs": [],
   "source": [
    "test_news_f = [\"The U.S. Congress has passed a historic $1.2 trillion infrastructure bill aimed at upgrading the country’s aging roads, bridges, and broadband networks. The bill, which has been a major priority for President Joe Biden's administration, passed with bipartisan support after months of negotiation between Democrats and Republicans. President Biden hailed the bill as a once-in-a-generation investment in America’s infrastructure, promising that it would create millions of jobs, modernize transportation systems, and improve internet access across the country. The bill also includes funding for clean energy projects and efforts to address climate change. Experts say this legislation will have a long-lasting impact on the U.S. economy and help the country remain competitive in the global market.\"]\n",
    "test_news_r = [\"In a surprising turn of events, the Biden administration's highly anticipated $1.2 trillion infrastructure bill has been rejected by Congress, leaving many wondering about the future of the U.S. economy. Despite months of negotiations and promises of bipartisan support, key Democratic and Republican lawmakers ultimately opposed the bill, citing concerns over the national debt and mismanagement of funds. Critics argue that the bill lacked clarity and failed to address urgent infrastructure needs. The failure to pass the bill is seen as a major blow to President Biden's administration, raising questions about his ability to unite Congress and move forward with his ambitious domestic agenda.\"]\n",
    "f_r = test_news_f + test_news_r"
   ]
  },
  {
   "cell_type": "code",
   "execution_count": 116,
   "id": "7b39b164-f549-4013-b14b-c64862bb82bb",
   "metadata": {
    "tags": []
   },
   "outputs": [
    {
     "data": {
      "text/plain": [
       "array([0, 1], dtype=int64)"
      ]
     },
     "execution_count": 116,
     "metadata": {},
     "output_type": "execute_result"
    }
   ],
   "source": [
    "test_text_t = tf_idf_word_vectorizer.transform(f_r)\n",
    "loj_model.predict(test_text_t)"
   ]
  },
  {
   "cell_type": "code",
   "execution_count": 136,
   "id": "2b8e981c-92a4-421b-9255-ada7d6f0463a",
   "metadata": {
    "tags": []
   },
   "outputs": [],
   "source": [
    "tt = [\"In a groundbreaking study published today, a team of scientists from the International Institute of Cheese Studies claims to have discovered that the Moon is primarily made of cheese. The researchers conducted extensive experiments using a new type of cheese analyzer and concluded that the Moon's surface is composed of Swiss cheese. They believe this finding could change the way we understand lunar geology and may even lead to new culinary explorations in space cuisine. The lead scientist stated, We always knew the Moon had a rich flavor, but we never expected it to be made of cheese! This discovery has sparked excitement among food enthusiasts and astronomers alike.\"]\n",
    "tt2 = [\"In a historic move, the United States Congress has passed a comprehensive bill aimed at addressing climate change and reducing carbon emissions. The legislation, known as the Climate Action Act, includes provisions for renewable energy investments, increased fuel efficiency standards for vehicles, and measures to protect vulnerable communities from the impacts of climate change. The bill, which received bipartisan support, is seen as a significant step toward meeting the nation's climate goals and fulfilling commitments made under international agreements. Environmental advocates hailed the passage of the bill as a crucial victory in the fight against climate change.\"]\n",
    "tt3 = [\"NASA has announced that its Perseverance rover has detected organic molecules on the surface of Mars. Scientists believe these molecules could provide important clues about the possibility of ancient life on the Red Planet. NASA stated that this discovery is critical for the ongoing search for past life on Mars. So far, the rover has detected compounds that have never been encountered before, causing excitement in the scientific community.\"]\n",
    "tt4 = [\"In a groundbreaking discovery, scientists have confirmed that the Moon is actually made of cheese. The study, conducted by a team of experts from the Institute of Lunar Research, reveals that the surface and core of the Moon consist of different types of cheese, including cheddar and mozzarella. This finding has surprised the scientific community and is expected to change our understanding of the universe. The researchers are now planning a mission to harvest the cheese for commercial use on Earth.\"]\n",
    "tt5 = [\"In an unprecedented move, world leaders have come together in a secret summit to sign an agreement that will eliminate all national borders by the year 2025. The agreement, dubbed the Global Unity Pact, was reportedly signed by the presidents and prime ministers of over 150 countries. According to leaked documents, the plan aims to create a single global government and remove all immigration restrictions, allowing free movement of people and goods across the world. Critics argue that this will lead to the collapse of national sovereignty, while supporters claim it will promote world peace and unity.\"]\n",
    "tt6 = [\"In a shocking announcement, the U.S. government has revealed plans to completely replace the U.S. dollar with a new digital currency by the end of next month. The new currency, reportedly called FedCoin,will be fully controlled by the Federal Reserve and eliminate the need for physical cash. Government officials claim this move is necessary to combat financial crimes and improve economic efficiency, but critics warn that it will allow the government to monitor all personal transactions and undermine financial privacy. Some conspiracy theories have even suggested that this is part of a larger plan to control the population through digital tracking.\"]\n"
   ]
  },
  {
   "cell_type": "code",
   "execution_count": 119,
   "id": "edcda2ea-87be-46ff-8865-c2d221187198",
   "metadata": {
    "tags": []
   },
   "outputs": [
    {
     "data": {
      "text/plain": [
       "array([0], dtype=int64)"
      ]
     },
     "execution_count": 119,
     "metadata": {},
     "output_type": "execute_result"
    }
   ],
   "source": [
    "tt_transform = tf_idf_word_vectorizer.transform(tt)\n",
    "loj_model.predict(tt_transform)"
   ]
  },
  {
   "cell_type": "code",
   "execution_count": 125,
   "id": "8e5661e4-d4ad-4810-b4f5-d27ce4a9722a",
   "metadata": {
    "tags": []
   },
   "outputs": [
    {
     "data": {
      "text/plain": [
       "array([1], dtype=int64)"
      ]
     },
     "execution_count": 125,
     "metadata": {},
     "output_type": "execute_result"
    }
   ],
   "source": [
    "tt2_transform = tf_idf_word_vectorizer.transform(tt2)\n",
    "loj_model.predict(tt2_transform)"
   ]
  },
  {
   "cell_type": "code",
   "execution_count": 128,
   "id": "69c8db5a-58fa-441d-94ff-ab2c2eecff44",
   "metadata": {
    "tags": []
   },
   "outputs": [
    {
     "data": {
      "text/plain": [
       "array([1], dtype=int64)"
      ]
     },
     "execution_count": 128,
     "metadata": {},
     "output_type": "execute_result"
    }
   ],
   "source": [
    "tt3_transform = tf_idf_word_vectorizer.transform(tt3)\n",
    "loj_model.predict(tt3_transform)"
   ]
  },
  {
   "cell_type": "code",
   "execution_count": 131,
   "id": "2aea45fc-bb2b-4d52-a5ba-d9084b53e180",
   "metadata": {
    "tags": []
   },
   "outputs": [
    {
     "data": {
      "text/plain": [
       "array([1], dtype=int64)"
      ]
     },
     "execution_count": 131,
     "metadata": {},
     "output_type": "execute_result"
    }
   ],
   "source": [
    "tt4_transform = tf_idf_word_vectorizer.transform(tt4)\n",
    "loj_model.predict(tt4_transform)"
   ]
  },
  {
   "cell_type": "code",
   "execution_count": 134,
   "id": "44edfb03-a0ff-481b-aa91-bd36ee1cd1a0",
   "metadata": {
    "tags": []
   },
   "outputs": [
    {
     "data": {
      "text/plain": [
       "array([1], dtype=int64)"
      ]
     },
     "execution_count": 134,
     "metadata": {},
     "output_type": "execute_result"
    }
   ],
   "source": [
    "tt5_transform = tf_idf_word_vectorizer.transform(tt5)\n",
    "loj_model.predict(tt5_transform)"
   ]
  },
  {
   "cell_type": "code",
   "execution_count": 137,
   "id": "b6ebc144-eebd-414c-a060-86c265e0ead8",
   "metadata": {
    "tags": []
   },
   "outputs": [
    {
     "data": {
      "text/plain": [
       "array([1], dtype=int64)"
      ]
     },
     "execution_count": 137,
     "metadata": {},
     "output_type": "execute_result"
    }
   ],
   "source": [
    "tt6_transform = tf_idf_word_vectorizer.transform(tt6)\n",
    "loj_model.predict(tt6_transform)"
   ]
  },
  {
   "cell_type": "markdown",
   "id": "728cc738-516b-4070-9fb4-e3508e744a87",
   "metadata": {
    "tags": []
   },
   "source": [
    "# Evaluation"
   ]
  },
  {
   "cell_type": "markdown",
   "id": "f55f665e-06bb-4ee8-90a5-05d8e63497e3",
   "metadata": {
    "tags": []
   },
   "source": [
    "### Confusion Matrix"
   ]
  },
  {
   "cell_type": "code",
   "execution_count": 102,
   "id": "6da1930b-2a03-46eb-88f7-8e0b85932c13",
   "metadata": {
    "tags": []
   },
   "outputs": [],
   "source": [
    "from sklearn.metrics import confusion_matrix\n",
    "import matplotlib.pyplot as plt\n",
    "%matplotlib inline\n",
    "import seaborn as sns"
   ]
  },
  {
   "cell_type": "code",
   "execution_count": 103,
   "id": "1dc04db3-2be7-42a0-8e45-a93aa079ecb7",
   "metadata": {
    "tags": []
   },
   "outputs": [],
   "source": [
    "data = confusion_matrix(Y_test, y_pred=loj_model.predict(x_test_tf_idf_word))"
   ]
  },
  {
   "cell_type": "code",
   "execution_count": 104,
   "id": "33f9c156-a685-418e-80af-10bd7b85ba6b",
   "metadata": {
    "tags": []
   },
   "outputs": [],
   "source": [
    "df_cm = pd.DataFrame(data, columns= np.unique(Y_test), index = np.unique(Y_test))"
   ]
  },
  {
   "cell_type": "code",
   "execution_count": 143,
   "id": "d32bb6a0-09d5-4a53-aeca-0c87a21335da",
   "metadata": {
    "tags": []
   },
   "outputs": [
    {
     "data": {
      "image/png": "[encoded data removed]",
      "text/plain": [
       "<Figure size 400x400 with 1 Axes>"
      ]
     },
     "metadata": {},
     "output_type": "display_data"
    }
   ],
   "source": [
    "df_cm.index.name = \"Actual\"\n",
    "df_cm.columns.name = \"Predicted\"\n",
    "plt.figure(figsize=(4,4))\n",
    "sns.set(font_scale = 1.2)\n",
    "sns.heatmap(df_cm, annot=True, annot_kws={'size':12}, cbar=False,square=True, fmt = 'd', cmap = \"Reds\")\n",
    "plt.title(\"Confusion Matrix\")\n",
    "plt.savefig(\"confusion_matrix.png\", dpi=300, bbox_inches='tight')  # saving as png\n"
   ]
  },
  {
   "cell_type": "markdown",
   "id": "0a8c7e10-e3b4-49c2-b6ed-33d6d2f3349f",
   "metadata": {
    "tags": []
   },
   "source": [
    "### Classification Report"
   ]
  },
  {
   "cell_type": "code",
   "execution_count": 106,
   "id": "91e9016e-8a86-45e0-985b-d7bcd808761a",
   "metadata": {
    "tags": []
   },
   "outputs": [],
   "source": [
    "from sklearn.metrics import classification_report"
   ]
  },
  {
   "cell_type": "code",
   "execution_count": 107,
   "id": "8ad2f1be-0b5d-461f-ab8c-90382993ad5e",
   "metadata": {
    "tags": []
   },
   "outputs": [
    {
     "name": "stdout",
     "output_type": "stream",
     "text": [
      "              precision    recall  f1-score   support\n",
      "\n",
      "           0       0.81      0.76      0.79      8323\n",
      "           1       0.77      0.81      0.79      7976\n",
      "\n",
      "    accuracy                           0.79     16299\n",
      "   macro avg       0.79      0.79      0.79     16299\n",
      "weighted avg       0.79      0.79      0.79     16299\n",
      "\n"
     ]
    }
   ],
   "source": [
    "print(classification_report(Y_test, y_pred=loj_model.predict(x_test_tf_idf_word)))"
   ]
  },
  {
   "cell_type": "markdown",
   "id": "147b122c-1a96-4a9c-8733-a4253261653e",
   "metadata": {},
   "source": [
    "# WEB APPLICATION"
   ]
  },
  {
   "cell_type": "code",
   "execution_count": 138,
   "id": "c7a8f2dc-97f0-4c70-aaf8-93f0d52b0603",
   "metadata": {
    "tags": []
   },
   "outputs": [],
   "source": [
    "## i load the model.joblib and vectorizer.joblib to create a web application\n",
    "import joblib"
   ]
  },
  {
   "cell_type": "code",
   "execution_count": 112,
   "id": "691715c5-2155-416f-b9a5-e8ec3d2ef0ad",
   "metadata": {
    "tags": []
   },
   "outputs": [
    {
     "data": {
      "text/plain": [
       "['vectorizer.joblib']"
      ]
     },
     "execution_count": 112,
     "metadata": {},
     "output_type": "execute_result"
    }
   ],
   "source": [
    "## Saving models\n",
    "joblib.dump(loj_model,'model.joblib')\n",
    "joblib.dump(tf_idf_word_vectorizer, 'vectorizer.joblib')"
   ]
  },
  {
   "cell_type": "code",
   "execution_count": null,
   "id": "e2230422-70bb-46e8-be92-085309073f64",
   "metadata": {},
   "outputs": [],
   "source": []
  }
 ],
 "metadata": {
  "kernelspec": {
   "display_name": "Python 3 (ipykernel)",
   "language": "python",
   "name": "python3"
  },
  "language_info": {
   "codemirror_mode": {
    "name": "ipython",
    "version": 3
   },
   "file_extension": ".py",
   "mimetype": "text/x-python",
   "name": "python",
   "nbconvert_exporter": "python",
   "pygments_lexer": "ipython3",
   "version": "3.11.4"
  }
 },
 "nbformat": 4,
 "nbformat_minor": 5
}
